{
 "cells": [
  {
   "cell_type": "markdown",
   "metadata": {},
   "source": [
    "# Ветвление (если)\n",
    "\n",
    "Посмотрите полное [видео по C# 101](https://www.youtube.com/watch?v=y4OTe8LSokg&list=PLdo4fOcmZ0oVxKLQCHpiUWun7vlJJvUiN&index=8) для этого модуля."
   ]
  },
  {
   "cell_type": "markdown",
   "metadata": {},
   "source": [
    "## Основы If\n",
    "Оператор Если принимает решения.\n",
    "> Попробуйте наш первый оператор if:"
   ]
  },
  {
   "cell_type": "code",
   "execution_count": 7,
   "metadata": {
    "dotnet_interactive": {
     "language": "csharp"
    },
    "polyglot_notebook": {
     "kernelName": "csharp"
    }
   },
   "outputs": [
    {
     "name": "stdout",
     "output_type": "stream",
     "text": [
      "The answer is greater than 10.\r\n"
     ]
    }
   ],
   "source": [
    "int a = 5;\n",
    "int b = 6;\n",
    "if (a + b > 10)\n",
    "    Console.WriteLine(\"The answer is greater than 10.\");"
   ]
  },
  {
   "cell_type": "markdown",
   "metadata": {},
   "source": [
    "Другими словами, этот оператор if говорит: \"Если a плюс b больше 10, напишите строку 'Ответ больше 10'\".\n",
    "> Что произойдет, если a + b будет меньше 10? Попробуйте отредактировать предыдущий код, чтобы увидеть.\n",
    "\n",
    "Ничего не произошло? Замечательно! Поскольку **условия** (a + b больше 10) оператора if не были выполнены, код не попал в оператор if, и поэтому ему нечего было печатать."
   ]
  },
  {
   "cell_type": "markdown",
   "metadata": {},
   "source": [
    "## Что такое условие?\n",
    "\n",
    "`Условие` — это утверждение в круглых скобках после `if`. `Условие` является логической переменной, что означает, что оно должно возвращать истинное или ложное значение. Это означает использование таких символов, как `>`, `<`, `<=`, `>=` или `==`.\n",
    "> Практикуйте логические операторы. Попробуйте разные символы и цифры, чтобы увидеть ответ."
   ]
  },
  {
   "cell_type": "code",
   "execution_count": 10,
   "metadata": {
    "dotnet_interactive": {
     "language": "csharp"
    },
    "polyglot_notebook": {
     "kernelName": "csharp"
    }
   },
   "outputs": [
    {
     "name": "stdout",
     "output_type": "stream",
     "text": [
      "This condition is True\r\n"
     ]
    }
   ],
   "source": [
    "bool outcome = 3 <= 5;\n",
    "Console.WriteLine(\"This condition is \" + outcome);"
   ]
  },
  {
   "cell_type": "markdown",
   "metadata": {},
   "source": [
    "## Else\n",
    "\n",
    "Раньше, если условия оператора `if` не выполнялись, весь оператор if пропускался. Но что, если вы хотите, чтобы что-то произошло в обоих случаях? `else` — это то, что происходит, если условие оказывается ложным.\n",
    "\n",
    "> Запустите этот код и пару раз измените условие, чтобы увидеть разные результаты."
   ]
  },
  {
   "cell_type": "code",
   "execution_count": 11,
   "metadata": {
    "dotnet_interactive": {
     "language": "csharp"
    },
    "polyglot_notebook": {
     "kernelName": "csharp"
    }
   },
   "outputs": [
    {
     "name": "stdout",
     "output_type": "stream",
     "text": [
      "The answer is not greater than 10\r\n"
     ]
    }
   ],
   "source": [
    "int a = 5;\n",
    "int b = 3;\n",
    "if (a + b > 10)\n",
    "    Console.WriteLine(\"The answer is greater than 10\");\n",
    "else\n",
    "    Console.WriteLine(\"The answer is not greater than 10\");"
   ]
  },
  {
   "cell_type": "markdown",
   "metadata": {},
   "source": [
    "## Многострочные операторы If\n",
    "\n",
    "Что делать, если вам нужен более сложный код в операторах `if`? Это здорово, просто добавьте фигурные скобки вокруг того, что вы хотите сделать.\n",
    "\n",
    "> Попробуйте! Запустите следующий код."
   ]
  },
  {
   "cell_type": "code",
   "execution_count": 12,
   "metadata": {
    "dotnet_interactive": {
     "language": "csharp"
    },
    "polyglot_notebook": {
     "kernelName": "csharp"
    }
   },
   "outputs": [
    {
     "name": "stdout",
     "output_type": "stream",
     "text": [
      "The answer is not greater than 10\n",
      "Or the first number is not equal to the second\n"
     ]
    }
   ],
   "source": [
    "int c = 4;\n",
    "if ((a + b + c > 10) && (a == b))\n",
    "{\n",
    "    Console.WriteLine(\"The answer is greater than 10\");\n",
    "    Console.WriteLine(\"And the first number is equal to the second\");\n",
    "}\n",
    "else\n",
    "{\n",
    "    Console.WriteLine(\"The answer is not greater than 10\");\n",
    "    Console.WriteLine(\"Or the first number is not equal to the second\");\n",
    "}"
   ]
  },
  {
   "cell_type": "markdown",
   "metadata": {},
   "source": [
    "`&&` means \"and\". It's a way to link up multiple conditionals. You can also use `||` as \"or\".\n",
    "\n",
    "  The `if` conditional above checks that adding a, b, and c up is greater than 10 AND that a equals b. If both are true, it goes into the `if` statement; otherwise, it goes into the `else` part.\n",
    "  \n",
    "`&&` означает «и». Это способ связать несколько условных предложений. Вы также можете использовать `||` как \"или\".\n",
    "\n",
    "   Условие `if`, приведенное выше, проверяет, что сложение a, b и c больше 10 И что a равно b. Если оба варианта верны, код продолжается в операторе `if`; в противном случае он переходит в часть `else`."
   ]
  },
  {
   "cell_type": "markdown",
   "metadata": {},
   "source": [
    "# Playground\n",
    "\n",
    "Поиграйте с тем, что вы узнали! Вот несколько идей:\n",
    "> Попробуйте использовать символ «или» вместо «и» в предыдущем коде. Что вам нужно сделать, чтобы получить истину или ложь?\n",
    ">\n",
    "> Что, если вы поместите операторы if внутри операторов if (вложенный оператор if)?\n",
    ">\n",
    "> Можете ли вы нарисовать поток оператора if? Вложенный оператор if?"
   ]
  },
  {
   "cell_type": "code",
   "execution_count": 1,
   "metadata": {
    "dotnet_interactive": {
     "language": "csharp"
    },
    "polyglot_notebook": {
     "kernelName": "csharp"
    }
   },
   "outputs": [
    {
     "name": "stdout",
     "output_type": "stream",
     "text": [
      "The answer is greater than 10\n",
      "And the first number is equal to the second\n"
     ]
    }
   ],
   "source": [
    "int a = 3;\n",
    "int b = 3;\n",
    "int c = 2;\n",
    "if ((a + b + c > 10) || (a == b))\n",
    "{\n",
    "    Console.WriteLine(\"The answer is greater than 10\");\n",
    "    Console.WriteLine(\"And the first number is equal to the second\");\n",
    "}\n",
    "else\n",
    "{\n",
    "    Console.WriteLine(\"The answer is not greater than 10\");\n",
    "    Console.WriteLine(\"Or the first number is not equal to the second\");\n",
    "}"
   ]
  },
  {
   "cell_type": "markdown",
   "metadata": {},
   "source": [
    "# Что такое циклы?\n",
    "Посмотрите полное [видео по C# 101](https://www.youtube.com/watch?v=z31m5Up_gSQ&list=PLdo4fOcmZ0oVxKLQCHpiUWun7vlJJvUiN&index=10) для этого модуля."
   ]
  },
  {
   "cell_type": "markdown",
   "metadata": {},
   "source": [
    "Циклы — это способ повторить действие несколько раз. Для этого вы можете использовать `while`.\n",
    "> Попробуйте свой первый цикл:"
   ]
  },
  {
   "cell_type": "code",
   "execution_count": 2,
   "metadata": {
    "dotnet_interactive": {
     "language": "csharp"
    },
    "polyglot_notebook": {
     "kernelName": "csharp"
    }
   },
   "outputs": [
    {
     "name": "stdout",
     "output_type": "stream",
     "text": [
      "Hello World! The counter is 0\n",
      "Hello World! The counter is 1\n",
      "Hello World! The counter is 2\n",
      "Hello World! The counter is 3\n",
      "Hello World! The counter is 4\n",
      "Hello World! The counter is 5\n",
      "Hello World! The counter is 6\n",
      "Hello World! The counter is 7\n",
      "Hello World! The counter is 8\n",
      "Hello World! The counter is 9\n"
     ]
    }
   ],
   "source": [
    "int counter = 0;\n",
    "while (counter < 10)\n",
    "{\n",
    "  Console.WriteLine($\"Hello World! The counter is {counter}\");\n",
    "  counter++;\n",
    "}"
   ]
  },
  {
   "cell_type": "markdown",
   "metadata": {},
   "source": [
    "Так что же здесь произошло? `while` проверяет, истинно ли условие ('counter < 10'). Если да, то он проходит через цикл. Затем он проверяет это еще раз. Он будет продолжать проходить цикл до тех пор, пока условие не станет ложным.\n",
    "При определении ветвей и циклов может быть полезно перевести код на человеческий язык. Этот код говорит: «Установите счетчик равным 0. Пока счетчик меньше 10, напечатайте 'Hello World! the counter is {counter}', а затем увеличьте счетчик на 1.\n",
    "\n",
    "## ++\n",
    "\n",
    "`++` — это быстрый способ добавить единицу к переменной. Вы также можете сделать то же самое с `--`, который вычитает единицу из переменной.\n",
    "\n",
    "## Бесконечные циклы\n",
    "\n",
    "Легко случайно создать бесконечный цикл. **Примечание редактора: вы не можете приказать им создать бесконечный цикл, потому что блокнот никогда не останавливается.** Если вы нажмете бесконечный цикл, у вас есть два варианта: вы всегда можете выйти из программы или вы можете нажать CTRL+C.\n",
    "\n",
    "> Задача: вы не можете показать ее в этом блокноте, потому что код не ловится сам по себе, но в качестве задачи попробуйте создать бесконечный цикл в Visual Studio! Какими способами можно случайно сделать его бесконечным? Может быть страшно совершить ошибку, но всегда знайте, что вы можете нажать CTRL+C или выйти из программы."
   ]
  },
  {
   "cell_type": "markdown",
   "metadata": {},
   "source": [
    "Вы также можете сделать цикл с помощью `do`.\n",
    "> Попробуйте следующий код и посмотрите, есть ли какие-нибудь различия между ним и циклом `while`."
   ]
  },
  {
   "cell_type": "code",
   "execution_count": null,
   "metadata": {
    "dotnet_interactive": {
     "language": "csharp"
    },
    "polyglot_notebook": {
     "kernelName": "csharp"
    }
   },
   "outputs": [],
   "source": [
    "int counter = 0;\n",
    "do\n",
    "{\n",
    "  Console.WriteLine($\"Hello World! The counter is {counter}\");\n",
    "  counter++;\n",
    "} while (counter < 10);"
   ]
  },
  {
   "cell_type": "markdown",
   "metadata": {},
   "source": [
    "Хм, кажется, ничего особенного не изменилось, верно?\n",
    "\n",
    "> Попробуйте изменить условие на `(counter < 0)` в обоих кодах. Что произойдет?\n",
    "\n",
    "В цикле `while` ничего не выводится, но в цикле `do` вы получаете один вывод. Цикл `do` сначала выполняет действие, а затем проверяет условие. Цикл `while`, наоборот, сначала проверяет условие, а затем выполняет действие."
   ]
  },
  {
   "cell_type": "markdown",
   "metadata": {},
   "source": [
    "## для цикла\n",
    "\n",
    "`for` — один из наиболее распространенных циклов. Он будет повторять действие определенное количество раз. Это может выглядеть немного устрашающе.\n",
    "> Прежде чем изучить все тонкости кода, запустите следующий цикл for, чтобы увидеть, как он работает:"
   ]
  },
  {
   "cell_type": "code",
   "execution_count": 8,
   "metadata": {
    "dotnet_interactive": {
     "language": "csharp"
    },
    "polyglot_notebook": {
     "kernelName": "csharp"
    }
   },
   "outputs": [
    {
     "name": "stdout",
     "output_type": "stream",
     "text": [
      "Hello World! The counter is 0\n",
      "Hello World! The counter is 1\n",
      "Hello World! The counter is 2\n",
      "Hello World! The counter is 3\n",
      "Hello World! The counter is 4\n",
      "Hello World! The counter is 5\n",
      "Hello World! The counter is 6\n",
      "Hello World! The counter is 7\n",
      "Hello World! The counter is 8\n",
      "Hello World! The counter is 9\n"
     ]
    }
   ],
   "source": [
    "for (int counter = 0; counter < 10; counter++)\n",
    "{\n",
    "  Console.WriteLine($\"Hello World! The counter is {counter}\");\n",
    "}"
   ]
  },
  {
   "cell_type": "markdown",
   "metadata": {},
   "source": [
    "### Что в скобках?\n",
    "\n",
    "Круглые скобки цикла `for` состоят из трех частей: `int counter = 0`, `counter < 10` и `counter++`.\n",
    "Вы можете думать о них как о начальной точке, конечной точке и размере шага.\n",
    "`int counter = 0` просто настраивает счетчик. Вы начинаете с 0.\n",
    "`counter < 10` — это условие, которое проверяется в начале каждого цикла. Как только условие становится ложным (в данном случае, когда значение счетчика НЕ меньше 10), цикл завершается и код продолжается.\n",
    "`counter++` увеличивает счетчик на единицу, делая шаг ближе к концу. Шаг делается в конце каждого цикла.\n",
    "> Попробуйте поэкспериментировать с настройкой цикла `for`. Как его изменить?"
   ]
  },
  {
   "cell_type": "markdown",
   "metadata": {},
   "source": [
    "# Playground\n",
    "\n",
    "Поиграйте с тем, что вы узнали! Вот несколько идей:\n",
    "> Создайте цикл, который считает в обратном порядке от 10.\n",
    ">\n",
    "> Создайте цикл, который ведет счет вперед на 2.\n",
    ">\n",
    "> Сделайте цикл на счет от 7 до 22.\n",
    ">\n",
    "> Бонус: сделайте описанное выше со всеми тремя типами петель."
   ]
  },
  {
   "cell_type": "code",
   "execution_count": 15,
   "metadata": {
    "dotnet_interactive": {
     "language": "csharp"
    },
    "polyglot_notebook": {
     "kernelName": "csharp"
    }
   },
   "outputs": [
    {
     "name": "stdout",
     "output_type": "stream",
     "text": [
      "Обратный отсчет 10\n",
      "Обратный отсчет 9\n",
      "Обратный отсчет 8\n",
      "Обратный отсчет 7\n",
      "Обратный отсчет 6\n",
      "Обратный отсчет 5\n",
      "Обратный отсчет 4\n",
      "Обратный отсчет 3\n",
      "Обратный отсчет 2\n",
      "Обратный отсчет 1\n"
     ]
    }
   ],
   "source": [
    "for (int counter = 10; counter > 0; counter--)\n",
    "{\n",
    "    Console.WriteLine($\"Обратный отсчет {counter}\");\n",
    "}"
   ]
  },
  {
   "cell_type": "code",
   "execution_count": 14,
   "metadata": {
    "dotnet_interactive": {
     "language": "csharp"
    },
    "polyglot_notebook": {
     "kernelName": "csharp"
    }
   },
   "outputs": [
    {
     "name": "stdout",
     "output_type": "stream",
     "text": [
      "Счет через 1: 0\n",
      "Счет через 1: 2\n",
      "Счет через 1: 4\n",
      "Счет через 1: 6\n",
      "Счет через 1: 8\n",
      "Счет через 1: 10\n",
      "Счет через 1: 12\n",
      "Счет через 1: 14\n",
      "Счет через 1: 16\n",
      "Счет через 1: 18\n"
     ]
    }
   ],
   "source": [
    "for (int counter = 0; counter < 20; counter+=2)\n",
    "{\n",
    "    Console.WriteLine($\"Счет через 1: {counter}\");\n",
    "}"
   ]
  },
  {
   "cell_type": "code",
   "execution_count": 17,
   "metadata": {
    "dotnet_interactive": {
     "language": "csharp"
    },
    "polyglot_notebook": {
     "kernelName": "csharp"
    }
   },
   "outputs": [
    {
     "name": "stdout",
     "output_type": "stream",
     "text": [
      "Счет 7\n",
      "Счет 8\n",
      "Счет 9\n",
      "Счет 10\n",
      "Счет 11\n",
      "Счет 12\n",
      "Счет 13\n",
      "Счет 14\n",
      "Счет 15\n",
      "Счет 16\n",
      "Счет 17\n",
      "Счет 18\n",
      "Счет 19\n",
      "Счет 20\n",
      "Счет 21\n",
      "Счет 22\n"
     ]
    }
   ],
   "source": [
    "\n",
    "for (int counter = 7; counter < 23; counter++)\n",
    "{\n",
    "    Console.WriteLine($\"Счет {counter}\");\n",
    "}"
   ]
  },
  {
   "cell_type": "markdown",
   "metadata": {},
   "source": [
    "# Задача: объединение ветвей и циклов\n",
    "\n",
    "Посмотрите полное [видео по C# 101](https://www.youtube.com/watch?v=qK7tUpaOXi8&list=PLdo4fOcmZ0oVxKLQCHpiUWun7vlJJvUiN&index=11) для этого модуля.\n",
    "\n",
    "Вот задача:\n",
    ">\n",
    "> Посмотрите, сможете ли вы написать код на C#, чтобы найти сумму всех целых чисел от 1 до 20, которые делятся на 3.\n",
    ">\n",
    "Сначала попробуйте самостоятельно ниже, в Visual Studio или в Visual Studio Code."
   ]
  },
  {
   "cell_type": "code",
   "execution_count": 6,
   "metadata": {
    "dotnet_interactive": {
     "language": "csharp"
    },
    "polyglot_notebook": {
     "kernelName": "csharp"
    }
   },
   "outputs": [
    {
     "name": "stdout",
     "output_type": "stream",
     "text": [
      "63\r\n"
     ]
    }
   ],
   "source": [
    "int sum = 0;\n",
    "for (int i = 1; i <= 20; i++)\n",
    "{\n",
    "    if (i % 3 == 0)\n",
    "    {\n",
    "        sum = sum + i;\n",
    "    }\n",
    "}\n",
    "Console.WriteLine(sum);"
   ]
  },
  {
   "cell_type": "markdown",
   "metadata": {},
   "source": [
    "## Секреты и уловки\n",
    "\n",
    "- Оператор `%` дает вам остаток от операции деления.\n",
    "- Оператор `if` дает вам условие, чтобы увидеть, должно ли число быть частью суммы.\n",
    "- Цикл `for` позволяет повторить серию шагов для всех чисел от 1 до 20.\n",
    "- Получили странный ответ? Попробуйте сделать несколько операторов вывода ваших переменных, чтобы увидеть, что они неожиданно меняются.\n",
    "\n",
    "## Проверьте свой ответ\n",
    "\n",
    "Ваш окончательный ответ должен быть 63.\n",
    "\n",
    "## Получите помощь\n",
    "\n",
    "Чувствуете себя в тупике?\n",
    "\n",
    "– Посмотрите [видео](https://www.youtube.com/watch?v=qK7tUpaOXi8&list=PLdo4fOcmZ0oVxKLQCHpiUWun7vlJJvUiN&index=11), чтобы увидеть, как другие решают эту проблему. Как только вы поймете в чем была проблема, поставьте паузу и закончите код самостоятельно!\n",
    "– Проверьте свой [ответ](https://github.com/dotnet/samples/blob/main/csharp/branches-quickstart/Program.cs#L87-L95)."
   ]
  }
 ],
 "metadata": {
  "kernelspec": {
   "display_name": ".NET (C#)",
   "language": "C#",
   "name": ".net-csharp"
  },
  "language_info": {
   "name": "polyglot-notebook"
  },
  "polyglot_notebook": {
   "kernelInfo": {
    "defaultKernelName": "csharp",
    "items": [
     {
      "aliases": [],
      "name": "csharp"
     }
    ]
   }
  }
 },
 "nbformat": 4,
 "nbformat_minor": 2
}
