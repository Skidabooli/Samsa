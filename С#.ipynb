{
 "cells": [
  {
   "cell_type": "markdown",
   "metadata": {},
   "source": [
    "# Hello World\n",
    "\n",
    "Посмотрите полное [видео по C# 101](https://www.youtube.com/watch?v=KT2VR7m19So&list=PLdo4fOcmZ0oVxKLQCHpiUWun7vlJJvUiN&index=2) для этого модуля.\n",
    "\n",
    "## Что делать с этими материалами?\n",
    "\n",
    "Этот материал создавался, чтобы помочь вам в изучении программирования на языке C#. Вы можете:\n",
    "\n",
    "- Проработайте этот материал самостоятельно.\n",
    "- Разобрать его, просматривая видеоролики по C# 101.\n",
    "- Использовать эти материалы в качестве подсказок для написания собственного кода в Visual Studio.\n",
    "\n",
    "## Что такое C#?\n",
    "\n",
    "Это мощный и широко используемый язык программирования, который можно использовать для создания веб-сайтов, игр, мобильных приложений, настольных приложений и многого другого. C# является частью платформы программирования .NET, которая включает библиотеки для всех этих приложений. Просто начните изучать C# и это откроет вам мир.\n",
    "\n",
    "## C#: Hello World\n",
    "\n",
    "Напишите свою первую программу в C#! Этот код выводит на консоль строку \"Hello World\".\n",
    "> Наведите указатель мыши на следующий код. С левой стороны должен появиться небольшой значок \"Play\". Нажмите на него, и код запустится!"
   ]
  },
  {
   "cell_type": "code",
   "execution_count": 9,
   "metadata": {
    "dotnet_interactive": {
     "language": "csharp"
    },
    "polyglot_notebook": {
     "kernelName": "csharp"
    }
   },
   "outputs": [
    {
     "name": "stdout",
     "output_type": "stream",
     "text": [
      "Hello World!\r\n"
     ]
    }
   ],
   "source": [
    "Console.WriteLine(\"Hello World!\");"
   ]
  },
  {
   "cell_type": "markdown",
   "metadata": {},
   "source": [
    "`Console.WriteLine` - это метод, который используется для вывода сообщения на текстовую консоль. В данном случае в качестве вывода указано \"Hello World\".\n",
    "\n",
    "# Объявление и использование переменных\n",
    "\n",
    "**Переменная** — это символ, который можно использовать для запуска одного и того же кода с разными значениями. Например, вы можете объявить новую переменную с именем `aFriend`, которую можно использовать с `Console.WriteLine` для вывода строки. Вы можете объявить эту переменную, используя тип `string` или используя ключевое слово `var`, которое автоматически определит тип для вас.\n",
    "\n",
    "> Продолжайте и запустите следующий код, чтобы увидеть выходные данные **Jayme**.\n",
    ">\n",
    "> Затем измените имя переменной и запустите ее еще раз, чтобы увидеть что-то другое."
   ]
  },
  {
   "cell_type": "code",
   "execution_count": 14,
   "metadata": {
    "dotnet_interactive": {
     "language": "csharp"
    },
    "polyglot_notebook": {
     "kernelName": "csharp"
    }
   },
   "outputs": [
    {
     "name": "stdout",
     "output_type": "stream",
     "text": [
      "Jayme  Poll\r\n"
     ]
    }
   ],
   "source": [
    "var aFriend = \"Jayme\";\n",
    "var nFriend = \"Poll\";\n",
    "Console.WriteLine($\"{aFriend}  {nFriend}\");"
   ]
  },
  {
   "cell_type": "markdown",
   "metadata": {},
   "source": [
    "# Объединение строк\n",
    "\n",
    "Возможно, вы заметили, что в последнем блоке кода отсутствовало слово «Привет». Вы можете исправить это, объединив несколько строк вместе. Используйте `+`, чтобы создать новую строку, которая выводится на консоль.\n",
    "\n",
    "> Запустите код, чтобы написать дружеское приветствие!"
   ]
  },
  {
   "cell_type": "code",
   "execution_count": 16,
   "metadata": {
    "dotnet_interactive": {
     "language": "csharp"
    },
    "polyglot_notebook": {
     "kernelName": "csharp"
    }
   },
   "outputs": [
    {
     "name": "stdout",
     "output_type": "stream",
     "text": [
      "Hello Jayme!\r\n"
     ]
    }
   ],
   "source": [
    "Console.WriteLine(\"Hello \" + aFriend + \"!\");"
   ]
  },
  {
   "cell_type": "markdown",
   "metadata": {},
   "source": [
    "# Интерполяция строк\n",
    "\n",
    "Вы только что использовали `+` для создания новой строки из **переменной** и **константы**. Есть лучший способ сделать это, поместив переменную между `{` и `}`, чтобы указать C# заменить этот текст значением переменной. Это называется **строковой интерполяцией**. Затем вы можете добавить `$` перед открывающей кавычкой, чтобы включить интерполяцию строки."
   ]
  },
  {
   "cell_type": "code",
   "execution_count": 18,
   "metadata": {
    "dotnet_interactive": {
     "language": "csharp"
    },
    "polyglot_notebook": {
     "kernelName": "csharp"
    }
   },
   "outputs": [
    {
     "name": "stdout",
     "output_type": "stream",
     "text": [
      "Hello string interpolation!\r\n"
     ]
    }
   ],
   "source": [
    "aFriend = \"string interpolation\";\n",
    "Console.WriteLine($\"Hello {aFriend}!\");"
   ]
  },
  {
   "cell_type": "markdown",
   "metadata": {},
   "source": [
    "Вы сделали это! Вы только что создали свое первое приложение на C# и узнали об объединении строк с помощью интерполяции строк."
   ]
  },
  {
   "cell_type": "markdown",
   "metadata": {},
   "source": [
    "# Playground: попробуйте сами\n",
    "\n",
    "В конце каждого модуля будет \"Playground\". Это место, где вы можете попробовать написать код самостоятельно, вместо того, чтобы просматривать уже готовый код.\n",
    "Попробуйте напечатать слова и переменные! Вот несколько подсказок, которые стоит попробовать:\n",
    "> Напечатайте личный девиз.\n",
    ">\n",
    "> Создайте несколько переменных с вашими любимыми блюдами, а затем напишите небольшой рассказ о них.\n",
    ">\n",
    "> **Вызов!**\n",
    ">\n",
    "> Создайте свои собственные Mad Libs! Создайте несколько переменных, которые будут глаголами, существительными и т. д., а затем используйте их при написании рассказа. Попросите друга определить значение каждой переменной и прочитать ему это, чтобы посмеяться!"
   ]
  },
  {
   "cell_type": "code",
   "execution_count": 27,
   "metadata": {
    "dotnet_interactive": {
     "language": "csharp"
    },
    "polyglot_notebook": {
     "kernelName": "csharp"
    }
   },
   "outputs": [
    {
     "name": "stdout",
     "output_type": "stream",
     "text": [
      "Девиз трёх П.\n",
      "Пельмени, Пицца, Паста.\n",
      "На самом деле рецепт оцень простой. Много мяса, мало теста.\n",
      "Пельмени придумал нищий крестьян, чтобы накормить детей. Он нашел яйцо дикой куропатки, смешал его дома с остатками рисовой муки и сделал тесто. Разрезал тесто на полоски и зажарил в кипятке. Блюдо понравилось детям и соседям, а рецепт разошелся по селению. Богатые жители начали заворачивать кусочки мяса в тесто.\n"
     ]
    }
   ],
   "source": [
    "Console.WriteLine(\"Девиз трёх П.\");\n",
    "Console.WriteLine(\"Пельмени, Пицца, Паста.\");\n",
    "Console.WriteLine(\"На самом деле рецепт оцень простой. Много мяса, мало теста.\");\n",
    "var noun = \"Пельмени\";\n",
    "var adjective = \"понравилось\";\n",
    "var verb = \"накормить\";\n",
    "Console.WriteLine($\"{noun} придумал нищий крестьян, чтобы {verb} детей. Он нашел яйцо дикой куропатки, смешал его дома с остатками рисовой муки и сделал тесто. Разрезал тесто на полоски и зажарил в кипятке. Блюдо {adjective} детям и соседям, а рецепт разошелся по селению. Богатые жители начали заворачивать кусочки мяса в тесто.\");"
   ]
  },
  {
   "cell_type": "markdown",
   "metadata": {},
   "source": [
    "# Основы строк\n",
    "\n",
    "Посмотрите полное [видео по C# 101](https://www.youtube.com/watch?v=JSpC7Cz64h0&list=PLdo4fOcmZ0oVxKLQCHpiUWun7vlJJvUiN&index=3) для этого модуля.\n",
    "\n",
    "## Что такое строка?\n",
    "\n",
    "Строка представляет собой последовательность символов. Удобная метафора — браслет дружбы, в котором вы соединяете буквы, чтобы составить имя."
   ]
  },
  {
   "cell_type": "markdown",
   "metadata": {},
   "source": [
    "## Строки и строковые литералы\n",
    "\n",
    "`firstFriend` и `secondFriend` — это строковые переменные. Строка внутри `Console.WriteLine` также является строкой. Это **строковый литерал**. Строковый литерал — это текст, представляющий константную строку.\n",
    "\n",
    "> Попробуйте это с помощью следующего кода. Нажмите play и посмотрите, что получится.\n",
    ">\n",
    "> Далее попробуйте изменить переменные, чтобы увидеть разные имена."
   ]
  },
  {
   "cell_type": "code",
   "execution_count": 29,
   "metadata": {
    "dotnet_interactive": {
     "language": "csharp"
    },
    "polyglot_notebook": {
     "kernelName": "csharp"
    }
   },
   "outputs": [
    {
     "name": "stdout",
     "output_type": "stream",
     "text": [
      "My friends are Poll and Sophia\r\n"
     ]
    }
   ],
   "source": [
    "string firstFriend = \"Poll\";\n",
    "string secondFriend = \"Sophia\";\n",
    "Console.WriteLine($\"My friends are {firstFriend} and {secondFriend}\");"
   ]
  },
  {
   "cell_type": "markdown",
   "metadata": {},
   "source": [
    "## Свойства строки\n",
    "\n",
    "По мере того, как вы будете больше изучать строки, вы обнаружите, что строки — это нечто большее, чем просто набор букв. Вы можете найти длину строки, используя `Length`. `Length` — это **свойство** строки, возвращающее количество символов в этой строке.\n",
    "\n",
    "> Попробуйте это, проверив, какой длины имена ваших друзей:"
   ]
  },
  {
   "cell_type": "code",
   "execution_count": 30,
   "metadata": {
    "dotnet_interactive": {
     "language": "csharp"
    },
    "polyglot_notebook": {
     "kernelName": "csharp"
    }
   },
   "outputs": [
    {
     "name": "stdout",
     "output_type": "stream",
     "text": [
      "The name Poll has 4 letters.\n",
      "The name Sophia has 6 letters.\n"
     ]
    }
   ],
   "source": [
    "Console.WriteLine($\"The name {firstFriend} has {firstFriend.Length} letters.\");\n",
    "Console.WriteLine($\"The name {secondFriend} has {secondFriend.Length} letters.\");"
   ]
  },
  {
   "cell_type": "markdown",
   "metadata": {},
   "source": [
    "# Строковые методы\n",
    "\n",
    "## Ведущие и конечные пробелы\n",
    "\n",
    "Предположим, в ваших строках есть начальные или конечные пробелы (также называемые **пустым пространством**), которые вы не хотите отображать. Вы хотите обрезать пробелы в строках. Эту работу выполняет метод `Trim` и связанные с ним методы `TrimStart` и `TrimEnd`. Вы можете использовать эти методы для удаления начальных и конечных пробелов.\n",
    "\n",
    "> Поэкспериментируйте с обрезкой в следующем коде. Скобки нужны, чтобы помочь вам увидеть все пустое пространство.\n",
    "\n",
    "**Примечание редактирования: должно ли это быть одним и тем же? Или несколько разбивок кода и уценки?*"
   ]
  },
  {
   "cell_type": "code",
   "execution_count": 1,
   "metadata": {
    "dotnet_interactive": {
     "language": "csharp"
    },
    "polyglot_notebook": {
     "kernelName": "csharp"
    }
   },
   "outputs": [
    {
     "name": "stdout",
     "output_type": "stream",
     "text": [
      "[      Hello World!       ]\n",
      "[Hello World!       ]\n",
      "[      Hello World!]\n",
      "[Hello World!]\n"
     ]
    }
   ],
   "source": [
    "string greeting = \"      Hello World!       \";\n",
    "Console.WriteLine($\"[{greeting}]\");\n",
    "\n",
    "string trimmedGreeting = greeting.TrimStart();\n",
    "Console.WriteLine($\"[{trimmedGreeting}]\");\n",
    "\n",
    "trimmedGreeting = greeting.TrimEnd();\n",
    "Console.WriteLine($\"[{trimmedGreeting}]\");\n",
    "\n",
    "trimmedGreeting = greeting.Trim();\n",
    "Console.WriteLine($\"[{trimmedGreeting}]\");"
   ]
  },
  {
   "cell_type": "markdown",
   "metadata": {},
   "source": [
    "## Замена\n",
    "\n",
    "Вы также можете заменить подстроки другими значениями. Например, в приведенном ниже коде вы можете использовать «Hello World!» и заменить «Привет» на «Здравствуй», чтобы получилось «Здравствуй, мир!»\n",
    "\n",
    "> Попробуйте. Чем еще можно заменить «Привет»?"
   ]
  },
  {
   "cell_type": "code",
   "execution_count": 4,
   "metadata": {
    "dotnet_interactive": {
     "language": "csharp"
    },
    "polyglot_notebook": {
     "kernelName": "csharp"
    }
   },
   "outputs": [
    {
     "name": "stdout",
     "output_type": "stream",
     "text": [
      "Hello World!\n",
      "Hi World!\n"
     ]
    }
   ],
   "source": [
    "string sayHello = \"Hello World!\";\n",
    "Console.WriteLine(sayHello);\n",
    "sayHello = sayHello.Replace(\"Hello\", \"Hi\");\n",
    "Console.WriteLine(sayHello);"
   ]
  },
  {
   "cell_type": "markdown",
   "metadata": {},
   "source": [
    "## Изменение регистра\n",
    "\n",
    "Иногда вам нужно, чтобы все строки были в ВЕРХНЕМ или нижнем регистре. `ToUpper` и `ToLower` делают именно это.\n",
    "> Следующий пример кажется немного запутанным. Можете ли вы исправить это так, чтобы слово «шепот» было написано заглавными буквами, а слово «крик» — строчными?"
   ]
  },
  {
   "cell_type": "code",
   "execution_count": 3,
   "metadata": {
    "dotnet_interactive": {
     "language": "csharp"
    },
    "polyglot_notebook": {
     "kernelName": "csharp"
    }
   },
   "outputs": [
    {
     "name": "stdout",
     "output_type": "stream",
     "text": [
      "WHISPER\n",
      "shout\n"
     ]
    }
   ],
   "source": [
    "Console.WriteLine(\"WhiSPer\".ToUpper());\n",
    "Console.WriteLine(\"sHoUt\".ToLower());"
   ]
  },
  {
   "cell_type": "markdown",
   "metadata": {},
   "source": [
    "# Playground\n",
    "\n",
    "Теперь ваша очередь поэкспериментировать с тем, что вы узнали. Попробуйте эти упражнения:\n",
    "> Создайте три переменные для трех разных людей.\n",
    ">\n",
    "> Найдите длину имени первого человека, сделайте имя второго заглавными, а третьего — строчными.\n",
    ">\n",
    "> Сколько букв в слове \"supercalifragilisticexpialidocious\"?\n",
    ">\n",
    "> Сколько символов вынимается, когда обрезаешь \"       friendship bracelet     \"? Убирает ли обрезка центральное пространство?\n",
    ">\n",
    "> А что ты хочешь написать?"
   ]
  },
  {
   "cell_type": "code",
   "execution_count": 24,
   "metadata": {
    "dotnet_interactive": {
     "language": "csharp"
    },
    "polyglot_notebook": {
     "kernelName": "csharp"
    }
   },
   "outputs": [
    {
     "name": "stdout",
     "output_type": "stream",
     "text": [
      "4\n",
      "MARIA\n",
      "gideon\n",
      "34\n",
      "Количество символов снимающихся 12\n",
      "friendship bracelet\n"
     ]
    }
   ],
   "source": [
    "string s = \"Poll\";\n",
    "string b = \"Maria\";\n",
    "string f = \"Gideon\";\n",
    "string a = \"supercalifragilisticexpialidocious\";\n",
    "string h = \"       friendship bracelet     \";\n",
    "Console.WriteLine(s.Length);\n",
    "Console.WriteLine(b.ToUpper());\n",
    "Console.WriteLine(f.ToLower());\n",
    "Console.WriteLine(a.Length);\n",
    "Console.WriteLine($\"Количество символов снимающихся {h.Length - ((h.Trim()).Length)}\");\n",
    "Console.WriteLine(h.Trim());"
   ]
  },
  {
   "cell_type": "markdown",
   "metadata": {},
   "source": [
    "# Поиск строк\n",
    "\n",
    "Посмотрите полное [видео по C# 101](https://www.youtube.com/watch?v=JL30gSE3WaQ&list=PLdo4fOcmZ0oVxKLQCHpiUWun7vlJJvUiN&index=4) для этого модуля."
   ]
  },
  {
   "cell_type": "markdown",
   "metadata": {},
   "source": [
    "## Contains\n",
    "\n",
    "Содержит ли ваша строка другую строку? Вы можете использовать `Contains`, чтобы узнать!\n",
    "Метод `Contains` возвращает *логическое значение*. Это тип, представленный ключевым словом `bool`, который может содержать два значения: `true` или `false`. В этом случае метод возвращает `true`, если искомая строка найдена, и `false`, если она не найдена.\n",
    "> Запустите следующий код.\n",
    ">\n",
    "> Что еще будет или не будет содержаться?\n",
    ">\n",
    "> Имеет ли значение регистр?\n",
    ">\n",
    "> Можете ли вы сохранить возвращаемое значение метода `Contains`> Помните, что тип результата — `bool`."
   ]
  },
  {
   "cell_type": "code",
   "execution_count": 28,
   "metadata": {
    "dotnet_interactive": {
     "language": "csharp"
    },
    "polyglot_notebook": {
     "kernelName": "csharp"
    }
   },
   "outputs": [
    {
     "name": "stdout",
     "output_type": "stream",
     "text": [
      "False\n",
      "False\n"
     ]
    }
   ],
   "source": [
    "string songLyrics = \"You say goodbye, and I say hello\";\n",
    "Console.WriteLine(songLyrics.Contains(\"RRR\"));\n",
    "Console.WriteLine(songLyrics.Contains(\"greetings\"));"
   ]
  },
  {
   "cell_type": "markdown",
   "metadata": {},
   "source": [
    "## StartsWith и EndsWith\n",
    "\n",
    "`StartsWith` и `EndsWith` — методы, похожие на `Contains`, но более специфичные. Они сообщают вам, с чего начинается или заканчивается строка, которую вы проверяете. Он имеет ту же структуру, что и `Contains`, то есть: `bigstring.StartsWith(substring)`.\n",
    "> Теперь ваша очередь попробовать!\n",
    "> В следующем коде попробуйте выполнить поиск в строке и посмотреть, начинается ли она с \"you\" или \"I\".\n",
    "> Далее посмотрите, заканчивается ли код на \"hello\" или \"goodbye\"."
   ]
  },
  {
   "cell_type": "code",
   "execution_count": 37,
   "metadata": {
    "dotnet_interactive": {
     "language": "csharp"
    },
    "polyglot_notebook": {
     "kernelName": "csharp"
    }
   },
   "outputs": [
    {
     "name": "stdout",
     "output_type": "stream",
     "text": [
      "False  True\n",
      "True False\n"
     ]
    }
   ],
   "source": [
    "string songLyrics = \"You say goodbye, and I say hello\";\n",
    "Console.WriteLine($\"{songLyrics.StartsWith(\"I\")}  {songLyrics.StartsWith(\"You\")}\");\n",
    "Console.WriteLine($\"{songLyrics.EndsWith(\"hello\")} {songLyrics.EndsWith(\"goodbye\")}\");"
   ]
  },
  {
   "cell_type": "markdown",
   "metadata": {},
   "source": [
    "# Playground\n",
    "\n",
    "Поиграйте с тем, что вы узнали! Вот несколько идей:\n",
    "> В скольких строках говорят hello?\n",
    "> Какие строки начинаются на \"You\"?\n",
    "> Какие строки заканчиваются на \"no\"?\n",
    "> Вспомните предыдущий модуль. Можете ли вы сделать некоторые строки прописными, а некоторые строчными?\n",
    "> Если вы измените регистр, как это повлияет на `Contains`?"
   ]
  },
  {
   "cell_type": "code",
   "execution_count": 44,
   "metadata": {
    "dotnet_interactive": {
     "language": "csharp"
    },
    "polyglot_notebook": {
     "kernelName": "csharp"
    }
   },
   "outputs": [
    {
     "name": "stdout",
     "output_type": "stream",
     "text": [
      "Playground\n",
      "Начинается с You: True, заканчивается на no: True, в верхнем регистре: \"YOU SAY YES, I SAY NO\", в нижнем регистре: \"you say yes, i say no\"\n",
      "Начинается с You: True, заканчивается на no: False, в верхнем регистре: \"YOU SAY STOP AND I SAY GO, GO, GO\", в нижнем регистре: \"you say stop and i say go, go, go\"\n",
      "Начинается с You: False, заканчивается на no: True, в верхнем регистре: \"OH, NO\", в нижнем регистре: \"oh, no\"\n",
      "Начинается с You: True, заканчивается на no: False, в верхнем регистре: \"YOU SAY GOODBYE AND I SAY HELLO\", в нижнем регистре: \"you say goodbye and i say hello\"\n",
      "Начинается с You: False, заканчивается на no: False, в верхнем регистре: \"HELLO, HELLO\", в нижнем регистре: \"hello, hello\"\n",
      "Начинается с You: False, заканчивается на no: False, в верхнем регистре: \"I DON'T KNOW WHY YOU SAY GOODBYE, I SAY HELLO\", в нижнем регистре: \"i don't know why you say goodbye, i say hello\"\n"
     ]
    }
   ],
   "source": [
    "Console.WriteLine(\"Playground\");\n",
    "String line1 = \"You say yes, I say no\";\n",
    "String line2 = \"You say stop and I say go, go, go\";\n",
    "String line3 = \"Oh, no\";\n",
    "String line4 = \"You say goodbye and I say hello\";\n",
    "String line5 = \"Hello, hello\";\n",
    "String line6 = \"I don't know why you say goodbye, I say hello\";\n",
    "\n",
    "Console.WriteLine($\"Начинается с You: {line1.StartsWith(\"You\")}, заканчивается на no: {line1.EndsWith(\"no\")}, в верхнем регистре: \\\"{line1.ToUpper()}\\\", в нижнем регистре: \\\"{line1.ToLower()}\\\"\");\n",
    "Console.WriteLine($\"Начинается с You: {line2.StartsWith(\"You\")}, заканчивается на no: {line2.EndsWith(\"no\")}, в верхнем регистре: \\\"{line2.ToUpper()}\\\", в нижнем регистре: \\\"{line2.ToLower()}\\\"\");\n",
    "Console.WriteLine($\"Начинается с You: {line3.StartsWith(\"You\")}, заканчивается на no: {line3.EndsWith(\"no\")}, в верхнем регистре: \\\"{line3.ToUpper()}\\\", в нижнем регистре: \\\"{line3.ToLower()}\\\"\");\n",
    "Console.WriteLine($\"Начинается с You: {line4.StartsWith(\"You\")}, заканчивается на no: {line4.EndsWith(\"no\")}, в верхнем регистре: \\\"{line4.ToUpper()}\\\", в нижнем регистре: \\\"{line4.ToLower()}\\\"\");\n",
    "Console.WriteLine($\"Начинается с You: {line5.StartsWith(\"You\")}, заканчивается на no: {line5.EndsWith(\"no\")}, в верхнем регистре: \\\"{line5.ToUpper()}\\\", в нижнем регистре: \\\"{line5.ToLower()}\\\"\");\n",
    "Console.WriteLine($\"Начинается с You: {line6.StartsWith(\"You\")}, заканчивается на no: {line6.EndsWith(\"no\")}, в верхнем регистре: \\\"{line6.ToUpper()}\\\", в нижнем регистре: \\\"{line6.ToLower()}\\\"\");\n"
   ]
  }
 ],
 "metadata": {
  "kernelspec": {
   "display_name": ".NET (C#)",
   "language": "C#",
   "name": ".net-csharp"
  },
  "language_info": {
   "name": "polyglot-notebook"
  },
  "polyglot_notebook": {
   "kernelInfo": {
    "defaultKernelName": "csharp",
    "items": [
     {
      "aliases": [],
      "name": "csharp"
     }
    ]
   }
  }
 },
 "nbformat": 4,
 "nbformat_minor": 2
}
