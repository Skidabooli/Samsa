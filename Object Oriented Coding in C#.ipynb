{
 "cells": [
  {
   "cell_type": "markdown",
   "metadata": {},
   "source": [
    "# Объекты и классы\n",
    "\n",
    "Посмотрите полное [видео по C# 101](https://www.youtube.com/watch?v=TzgxcAiHCWA&list=PLdo4fOcmZ0oVxKLQCHpiUWun7vlJJvUiN&index=16) для этого модуля."
   ]
  },
  {
   "cell_type": "markdown",
   "metadata": {},
   "source": [
    "## Объектно-ориентированное программирование\n",
    "\n",
    "Объекты — это способ имитировать реальный мир при кодировании. Если взять понятие человека, то он может иметь имя, адрес, рост, все эти свойства, которые меняются от человека к человеку. Объектно-ориентированное кодирование упаковывает такую информацию, так что вы можете легко создать человека со всеми этими деталями. С объектами можно делать много чего, но сейчас начнем с основ."
   ]
  },
  {
   "cell_type": "markdown",
   "metadata": {},
   "source": [
    "## Создание банка\n",
    "\n",
    "В следующих нескольких модулях вы создадите объект банковского счета со следующими атрибутами:\n",
    "\n",
    "> Он имеет 10-значный номер, который однозначно идентифицирует банковский счет.\n",
    ">\n",
    "> В нем есть строка, в которой хранится имя или имена владельцев.\n",
    ">\n",
    "> Есть возможность узнать баланс.\n",
    ">\n",
    "> Принимает депозиты.\n",
    ">\n",
    "> Принимает снятие средств.\n",
    ">\n",
    "> Первоначальный баланс должен быть положительным.\n",
    ">\n",
    "> Вывод средств не может привести к отрицательному балансу.\n",
    ">\n",
    "\n",
    "Вы можете классифицировать эти цели:\n",
    "\n",
    "- **Свойства**: сведения об объекте (сколько на нем денег, имя счета).\n",
    "- **Действия**: действия, которые может выполнять объект (принимать депозиты и снимать средства).\n",
    "- **Правила**: руководящие принципы для объекта, чтобы он не пытался делать невозможные вещи (следите за тем, чтобы счет никогда не мог стать отрицательным)."
   ]
  },
  {
   "cell_type": "markdown",
   "metadata": {},
   "source": [
    "## Сделайте это самостоятельно\n",
    "\n",
    "Ниже приведен пустой объект `BankAccount`, который вы собираетесь создать. Вы будете добавлять код шаг за шагом."
   ]
  },
  {
   "cell_type": "markdown",
   "metadata": {},
   "source": [
    "## #1: Свойства\n",
    "\n",
    "Свойства — это небольшой список значений, которые содержит каждый объект.\n",
    "`get` и `set`: иногда вам нужно, чтобы пользователь только видел переменную, но не менял ее. В других случаях вы хотите, чтобы пользователь мог изменять переменную. `get` позволяет увидеть переменную, `set` позволяет ее изменить. (верно?)\n",
    "\n",
    "> Скопируйте приведенный ниже код и вставьте его в объект `BankAccount` в разделе `//Properties`.\n",
    "\n",
    "```csharp\n",
    "    public string Number { get; }\n",
    "    public string Owner { get; set; }\n",
    "    public decimal Balance { get; }\n",
    "```\n"
   ]
  },
  {
   "cell_type": "code",
   "execution_count": 1,
   "metadata": {
    "dotnet_interactive": {
     "language": "csharp"
    },
    "polyglot_notebook": {
     "kernelName": "csharp"
    }
   },
   "outputs": [],
   "source": [
    "public class BankAccount\n",
    "{\n",
    "    // Properties (вставьте код ниже)\n",
    "    public string Number { get; }\n",
    "    public string Owner { get; set; }\n",
    "    public decimal Balance { get; }\n",
    "\n",
    "    // Constructor\n",
    "\n",
    "    // Functions\n",
    "}"
   ]
  },
  {
   "cell_type": "markdown",
   "metadata": {},
   "source": [
    "## #2: Конструктор\n",
    "\n",
    "Этот метод создает конкретный экземпляр объекта. Создание класса `BankAccount`, как вы делаете сейчас, похоже на создание шаблона для всех банковских счетов. Это не какой-то отдельный аккаунт. Конструктор — это то, что создаст единую учетную запись со всеми реальными данными человека. Вы предоставляете конструктору все необходимые сведения для конкретной учетной записи, и он присваивает эти сведения свойствам нового объекта.\n",
    "\n",
    "`this` — выбор стиля. В нем ясно указано, что переменная \"Owner\" является переменной этого конкретного экземпляра. В будущем у вас будет два экземпляра объекта для взаимодействия, и `this` станет более полезным. Вы также можете написать `Owner` вместо `this.Owner`, если хотите!\n",
    "\n",
    "Вы берете переменные `name` и `initialBalance` и создаете банковский счет, содержащий эти переменные.\n",
    "\n",
    "> Скопируйте и вставьте конструктор в `BankAccount` ниже, в разделе `//Constructor`.\n",
    "\n",
    "```csharp\n",
    "public BankAccount(string name, decimal initialBalance)\n",
    "{\n",
    "    this.Owner = name;\n",
    "    this.Balance = initialBalance;\n",
    "}\n",
    "```"
   ]
  },
  {
   "cell_type": "code",
   "execution_count": null,
   "metadata": {
    "dotnet_interactive": {
     "language": "csharp"
    },
    "polyglot_notebook": {
     "kernelName": "csharp"
    }
   },
   "outputs": [],
   "source": [
    "public class BankAccount\n",
    "{\n",
    "    // Properties\n",
    "    public string Number { get; }\n",
    "    public string Owner { get; set; }\n",
    "    public decimal Balance { get; }\n",
    "\n",
    "    // Constructor (Вставлять код сюда!)\n",
    "    public BankAccount(string name, decimal initialBalance)\n",
    "{\n",
    "    this.Owner = name;\n",
    "    this.Balance = initialBalance;\n",
    "}\n",
    "\n",
    "    // Functions\n",
    "}"
   ]
  },
  {
   "cell_type": "markdown",
   "metadata": {},
   "source": [
    "## #3: Создание экземпляра\n",
    "\n",
    "Теперь, когда у вас есть написанный код, посмотрите, что произойдет, если вы создадите `BankAccount`!\n",
    "\n",
    "> Запустите приведенный ниже код двух ячеек кода, чтобы создать определенный банковский счет. Делает ли он то, что вы ожидали?\n",
    ">\n",
    "> Измените код, чтобы открыть себе банковский счет. Сколько денег вы хотите иметь на своем банковском счете?"
   ]
  },
  {
   "cell_type": "code",
   "execution_count": 5,
   "metadata": {
    "dotnet_interactive": {
     "language": "csharp"
    },
    "polyglot_notebook": {
     "kernelName": "csharp"
    }
   },
   "outputs": [],
   "source": [
    "public class BankAccount\n",
    "{\n",
    "    // Properties\n",
    "    public string Number { get; }\n",
    "    public string Owner { get; set; }\n",
    "    public decimal Balance { get; }\n",
    "    \n",
    "    // Constructor\n",
    "    public BankAccount(string name, decimal initialBalance)\n",
    "    {\n",
    "        this.Owner = name;\n",
    "        this.Balance = initialBalance;\n",
    "    }\n",
    "    // Functions\n",
    "}"
   ]
  },
  {
   "cell_type": "code",
   "execution_count": 3,
   "metadata": {
    "dotnet_interactive": {
     "language": "csharp"
    },
    "polyglot_notebook": {
     "kernelName": "csharp"
    }
   },
   "outputs": [
    {
     "name": "stdout",
     "output_type": "stream",
     "text": [
      "Account was created for Kendra with 1000 dollars\r\n"
     ]
    }
   ],
   "source": [
    "var account = new BankAccount(\"Kendra\", 1000);\n",
    "Console.WriteLine($\"Account{account.Number} was created for {account.Owner} with {account.Balance} dollars\");"
   ]
  },
  {
   "cell_type": "markdown",
   "metadata": {},
   "source": [
    "## А как насчет `account.Number`?\n",
    "\n",
    "Возможно, вы заметили, что код ничего не выводит для `account.Number`. Это нормально! Вы еще ничего туда не вложили. Вы узнаете об этом в следующем модуле."
   ]
  },
  {
   "cell_type": "markdown",
   "metadata": {},
   "source": [
    "## #4: Функции\n",
    "\n",
    "Существуют функции для выполнения действий с объектом или изменения переменных объекта. Эти две функции будут вносить депозит (добавлять деньги) и снимать деньги. Вы будете добавлять что-то в методы позже, а сейчас вам просто нужно добавить пустые версии.\n",
    "\n",
    "> скопируйте приведенные ниже функции и добавьте их в `BankAccount` в разделе `//Functions`\n",
    "\n",
    "```csharp\n",
    "public void MakeDeposit(decimal amount, DateTime date, string note)\n",
    "{\n",
    "}\n",
    "\n",
    "public void MakeWithdrawal(decimal amount, DateTime date, string note)\n",
    "{\n",
    "}\n",
    "```"
   ]
  },
  {
   "cell_type": "code",
   "execution_count": null,
   "metadata": {
    "dotnet_interactive": {
     "language": "csharp"
    },
    "polyglot_notebook": {
     "kernelName": "csharp"
    }
   },
   "outputs": [],
   "source": [
    "public class BankAccount\n",
    "{\n",
    "    // Properties\n",
    "    public string Number { get; }\n",
    "    public string Owner { get; set; }\n",
    "    public decimal Balance { get; }\n",
    "\n",
    "    // Constructor\n",
    "    public BankAccount(string name, decimal initialBalance)\n",
    "    {\n",
    "        this.Owner = name;\n",
    "        this.Balance = initialBalance;\n",
    "    }\n",
    "\n",
    "    // Functions (Вставлять код сюда!)\n",
    "}"
   ]
  },
  {
   "cell_type": "markdown",
   "metadata": {},
   "source": [
    "# Обзор\n",
    "\n",
    "Вот версия `BankAccount`, которую вы получите в этом модуле. В следующем модуле вы добавите больше, но почему бы вам не попробовать что-то, просто чтобы увидеть, что вам нужно изучить?\n",
    "\n",
    "> Можете ли вы добавить 10-значный код? Что должен знать ваш объект, чтобы гарантировать уникальность кода?\n",
    ">\n",
    "> Попробуйте добавить функцию депозита! Что вы хотите, чтобы она делала?\n",
    ">\n",
    "> Как можно проверить, что первоначальный баланс положительный?"
   ]
  },
  {
   "cell_type": "code",
   "execution_count": null,
   "metadata": {
    "dotnet_interactive": {
     "language": "csharp"
    },
    "polyglot_notebook": {
     "kernelName": "csharp"
    }
   },
   "outputs": [],
   "source": [
    "public class BankAccount\n",
    "{\n",
    "    // Variables (#1)\n",
    "    public string Number { get; }\n",
    "    public string Owner { get; set; }\n",
    "    public decimal Balance { get; }\n",
    "\n",
    "    // Constructor (#2)\n",
    "    public BankAccount(string name, decimal initialBalance)\n",
    "    {\n",
    "        this.Owner = name;\n",
    "        this.Balance = initialBalance;\n",
    "    }\n",
    "\n",
    "    // Functions (#4)\n",
    "    public void MakeDeposit(decimal amount, DateTime date, string note)\n",
    "    {\n",
    "    }\n",
    "\n",
    "    public void MakeWithdrawal(decimal amount, DateTime date, string note)\n",
    "    {\n",
    "    }\n",
    "}"
   ]
  },
  {
   "cell_type": "code",
   "execution_count": null,
   "metadata": {
    "dotnet_interactive": {
     "language": "csharp"
    },
    "polyglot_notebook": {
     "kernelName": "csharp"
    }
   },
   "outputs": [],
   "source": [
    "//Make an instance (#3)\n",
    "var account = new BankAccount(\"Kendra\", 1000);\n",
    "Console.WriteLine($\"Account{account.Number} was created for {account.Owner} with {account.Balance} dollars\");"
   ]
  },
  {
   "cell_type": "markdown",
   "metadata": {},
   "source": [
    "# Методы и члены\n",
    "\n",
    "Посмотрите полное [видео по C# 101](https://www.youtube.com/watch?v=xLhm3bEG__c&list=PLdo4fOcmZ0oVxKLQCHpiUWun7vlJJvUiN&index=17) для этого модуля.\n",
    "\n",
    "Вот ваш банковский счет на данный момент! Сейчас он ничего не делает, только выводит имя владельца и баланс. У него пока даже нет номера счета. Вы будете работать с классом транзакций, который был добавлен для вас как пустой класс.\n",
    "\n",
    "> Запустите каждый фрагмент кода ниже и посмотрите, что будет выведено. Это то, что у вас получилось в прошлый раз."
   ]
  },
  {
   "cell_type": "code",
   "execution_count": null,
   "metadata": {
    "dotnet_interactive": {
     "language": "csharp"
    },
    "polyglot_notebook": {
     "kernelName": "csharp"
    }
   },
   "outputs": [],
   "source": [
    "public class BankAccount\n",
    "{\n",
    "    // Properties\n",
    "    public string Number { get; }\n",
    "    public string Owner { get; set; }\n",
    "    public decimal Balance { get; }\n",
    "\n",
    "    // Constructor\n",
    "    public BankAccount(string name, decimal initialBalance)\n",
    "    {\n",
    "        this.Owner = name;\n",
    "        this.Balance = initialBalance;\n",
    "    }\n",
    "\n",
    "    // Functions\n",
    "    public void MakeDeposit(decimal amount, DateTime date, string note)\n",
    "    {\n",
    "    }\n",
    "\n",
    "    public void MakeWithdrawal(decimal amount, DateTime date, string note)\n",
    "    {\n",
    "    }\n",
    "}"
   ]
  },
  {
   "cell_type": "code",
   "execution_count": null,
   "metadata": {
    "dotnet_interactive": {
     "language": "csharp"
    },
    "polyglot_notebook": {
     "kernelName": "csharp"
    }
   },
   "outputs": [],
   "source": [
    "var account = new BankAccount(\"Kendra\", 1000);\n",
    "Console.WriteLine($\"Account{account.Number} was created for {account.Owner} with {account.Balance} dollars\");"
   ]
  },
  {
   "cell_type": "markdown",
   "metadata": {},
   "source": [
    "## #1: Номер счета\n",
    "\n",
    "Вам нужен стартовый номер, на основе которого вы сможете основывать новые номера счетов, чтобы гарантировать уникальность всех учетных записей. Ниже приведен код этого числа \"seed\". Что это значит?\n",
    "\n",
    "- **Private**: это означает, что ни один клиент не может видеть этот номер. Это часть внутренней работы кода.\n",
    "- **Static**: это означает, что номер является универсальным для всех отдельных учетных записей. Если одна учетная запись меняет его, то это число обновляется для всех остальных учетных записей. Вот как вы можете сделать это отличным способом убедиться, что все номера счетов уникальны! Как только банковский счет использует его в качестве своего банковского номера, он может добавить его к началу счета, и следующий новый банковский счет будет иметь новый номер.\n",
    "\n",
    "> Скопируйте приведенный ниже код и вставьте его в раздел `// Properties` класса `BankAccount`.\n",
    "\n",
    "```csharp\n",
    "private static int accountNumberSeed = 1234567890;\n",
    "```\n",
    "\n",
    "> Скопируйте следующий фрагмент кода и добавьте его в `// Сonstructor`.\n",
    "\n",
    "```csharp\n",
    "this.Number = accountNumberSeed.ToString();\n",
    "accountNumberSeed++;\n",
    "```\n",
    "\n",
    "> Запустите этот код и посмотрите, что произойдет!"
   ]
  },
  {
   "cell_type": "code",
   "execution_count": null,
   "metadata": {
    "dotnet_interactive": {
     "language": "csharp"
    },
    "polyglot_notebook": {
     "kernelName": "csharp"
    }
   },
   "outputs": [],
   "source": [
    "public class BankAccount\n",
    "{\n",
    "    // Properties\n",
    "    public string Number { get; }\n",
    "    public string Owner { get; set; }\n",
    "    public decimal Balance { get; }\n",
    "    //(Paste first bit here!)\n",
    "\n",
    "    // Constructor\n",
    "    public BankAccount(string name, decimal initialBalance)\n",
    "    {\n",
    "        this.Owner = name;\n",
    "        this.Balance = initialBalance;\n",
    "        //(Paste second part here!)\n",
    "\n",
    "    }\n",
    "\n",
    "    // Functions\n",
    "    public void MakeDeposit(decimal amount, DateTime date, string note)\n",
    "    {\n",
    "    }\n",
    "\n",
    "    public void MakeWithdrawal(decimal amount, DateTime date, string note)\n",
    "    {\n",
    "    }\n",
    "}"
   ]
  },
  {
   "cell_type": "code",
   "execution_count": null,
   "metadata": {
    "dotnet_interactive": {
     "language": "csharp"
    },
    "polyglot_notebook": {
     "kernelName": "csharp"
    }
   },
   "outputs": [],
   "source": [
    "var account = new BankAccount(\"Kendra\", 1000);\n",
    "Console.WriteLine($\"Account {account.Number} was created for {account.Owner} with {account.Balance} dollars\");"
   ]
  },
  {
   "cell_type": "markdown",
   "metadata": {},
   "source": [
    "## #2: Свойства транзакции\n",
    "\n",
    "Следующая часть, которая вам нужна, — это баланс! Один из способов сделать его — просто следить за текущей вкладкой. Однако другой способ сделать это — создать историю транзакций. Для этого вам нужно создать небольшой класс транзакций, записывающий одну транзакцию.\n",
    "\n",
    "> вставьте свойства ниже в класс `Transaction`\n",
    "\n",
    "```csharp\n",
    "public decimal Amount { get; }\n",
    "public DateTime Date { get; }\n",
    "public string Notes { get; }\n",
    "```"
   ]
  },
  {
   "cell_type": "code",
   "execution_count": null,
   "metadata": {
    "dotnet_interactive": {
     "language": "csharp"
    },
    "polyglot_notebook": {
     "kernelName": "csharp"
    }
   },
   "outputs": [],
   "source": [
    "public class Transaction\n",
    "{\n",
    "    // Properties (Вставлять код сюда!)\n",
    "\n",
    "    // Constructor\n",
    "}"
   ]
  },
  {
   "cell_type": "markdown",
   "metadata": {},
   "source": [
    "## #3: Конструктор транзакций\n",
    "\n",
    "Далее вам нужно добавить конструктор в класс!\n",
    "\n",
    "> Добавьте следующий код в класс `Transaction` в конструкторе.\n",
    "\n",
    "```csharp\n",
    "public Transaction(decimal amount, DateTime date, string note)\n",
    "{\n",
    "    this.Amount = amount;\n",
    "    this.Date = date;\n",
    "    this.Notes = note;\n",
    "}\n",
    "```"
   ]
  },
  {
   "cell_type": "code",
   "execution_count": null,
   "metadata": {
    "dotnet_interactive": {
     "language": "csharp"
    },
    "polyglot_notebook": {
     "kernelName": "csharp"
    }
   },
   "outputs": [],
   "source": [
    "public class Transaction\n",
    "{\n",
    "    // Properties\n",
    "    public decimal Amount { get; }\n",
    "    public DateTime Date { get; }\n",
    "    public string Notes { get; }\n",
    "\n",
    "    // Constructor (Вставлять код сюда!)\n",
    "}"
   ]
  },
  {
   "cell_type": "markdown",
   "metadata": {},
   "source": [
    "## #4: Обновление BankAccount\n",
    "\n",
    "Теперь, когда у вас есть класс транзакции, вы можете использовать его на нашем банковском счете. Во-первых, вам нужно составить список транзакций.\n",
    "\n",
    "> Скопируйте следующий код в раздел `Properties`.\n",
    "\n",
    "```csharp\n",
    "private List<Transaction> allTransactions = new List<Transaction>();\n",
    "```"
   ]
  },
  {
   "cell_type": "code",
   "execution_count": null,
   "metadata": {
    "dotnet_interactive": {
     "language": "csharp"
    },
    "polyglot_notebook": {
     "kernelName": "csharp"
    }
   },
   "outputs": [],
   "source": [
    "using System.Collections.Generic;\n",
    "\n",
    "public class BankAccount\n",
    "{\n",
    "    // Properties\n",
    "    public string Number { get; }\n",
    "    public string Owner { get; set; }\n",
    "    public decimal Balance{ get;}\n",
    "    private static int accountNumberSeed = 1234567890;\n",
    "    //(Paste here!)\n",
    "\n",
    "    // Constructor\n",
    "    public BankAccount(string name, decimal initialBalance)\n",
    "    {\n",
    "        this.Owner = name;\n",
    "        this.Balance = initialBalance;\n",
    "        this.Number = accountNumberSeed.ToString();\n",
    "        accountNumberSeed++;\n",
    "\n",
    "    }\n",
    "\n",
    "    // Functions\n",
    "    public void MakeDeposit(decimal amount, DateTime date, string note)\n",
    "    {\n",
    "    }\n",
    "\n",
    "    public void MakeWithdrawal(decimal amount, DateTime date, string note)\n",
    "    {\n",
    "    }\n",
    "}"
   ]
  },
  {
   "cell_type": "markdown",
   "metadata": {},
   "source": [
    "## #5: Обновление баланса\n",
    "\n",
    "Теперь, когда у вас есть список транзакций, которые вы можете использовать, вам нужно прикрепить к нему `Balance`. Что вы хотите сделать, так это то, что всякий раз, когда кто-то хочет получить баланс, код проверяет список транзакций и подсчитывает все это, прежде чем возвращать ответ. Вы можете сделать это, прикрепив несколько инструкций к команде `get` в Balance!\n",
    "\n",
    "> В `BankAccount` замените `public decimal Balance { get;}` следующим кодом:\n",
    "\n",
    "```csharp\n",
    "public decimal Balance\n",
    "{\n",
    "    get\n",
    "    {\n",
    "        decimal balance = 0;\n",
    "        foreach (var item in allTransactions)\n",
    "        {\n",
    "            balance += item.Amount;\n",
    "        }\n",
    "\n",
    "        return balance;\n",
    "    }\n",
    "}\n",
    "```"
   ]
  },
  {
   "cell_type": "code",
   "execution_count": null,
   "metadata": {
    "dotnet_interactive": {
     "language": "csharp"
    },
    "polyglot_notebook": {
     "kernelName": "csharp"
    }
   },
   "outputs": [],
   "source": [
    "public class BankAccount\n",
    "{\n",
    "    // Properties\n",
    "    public string Number { get; }\n",
    "    public string Owner { get; set; }\n",
    "    public decimal Balance { get; }  // replace this line!\n",
    "    private static int accountNumberSeed = 1234567890;\n",
    "    private List<Transaction> allTransactions = new List<Transaction>();\n",
    "\n",
    "    // Constructor\n",
    "    public BankAccount(string name, decimal initialBalance)\n",
    "    {\n",
    "        this.Owner = name;\n",
    "        this.Balance = initialBalance;\n",
    "        this.Number = accountNumberSeed.ToString();\n",
    "        accountNumberSeed++;\n",
    "    }\n",
    "\n",
    "    // Functions\n",
    "    public void MakeDeposit(decimal amount, DateTime date, string note)\n",
    "    {\n",
    "    }\n",
    "\n",
    "    public void MakeWithdrawal(decimal amount, DateTime date, string note)\n",
    "    {\n",
    "    }\n",
    "}"
   ]
  },
  {
   "cell_type": "markdown",
   "metadata": {},
   "source": [
    "## #6: Исправление ошибок\n",
    "\n",
    "Возможно, вы заметили красную волнистую линию под `this.Balance`. Вы создали новую ошибку! Поскольку всякий раз, когда вы получаете Balance, происходит процесс суммирования списка транзакций, вы не можете просто сказать, что `Balance` — это первоначальный баланс. Вы не исправите это полностью в этом модуле, но вы можете сделать код пригодным для использования на данный момент.\n",
    "\n",
    "> Удалите строку `this.Balance = InitialBalance`."
   ]
  },
  {
   "cell_type": "code",
   "execution_count": null,
   "metadata": {
    "dotnet_interactive": {
     "language": "csharp"
    },
    "polyglot_notebook": {
     "kernelName": "csharp"
    }
   },
   "outputs": [],
   "source": [
    "public class BankAccount\n",
    "{\n",
    "    // Properties\n",
    "    public string Number { get; }\n",
    "    public string Owner { get; set; }\n",
    "    public decimal Balance\n",
    "    {\n",
    "        get\n",
    "        {\n",
    "            decimal balance = 0;\n",
    "            foreach (var item in allTransactions)\n",
    "            {\n",
    "                balance += item.Amount;\n",
    "            }\n",
    "\n",
    "            return balance;\n",
    "        }\n",
    "    }\n",
    "    private static int accountNumberSeed = 1234567890;\n",
    "    private List<Transaction> allTransactions = new List<Transaction>();\n",
    "\n",
    "\n",
    "    // Constructor\n",
    "    public BankAccount(string name, decimal initialBalance)\n",
    "    {\n",
    "        this.Owner = name;\n",
    "        this.Balance = initialBalance; //delete this line\n",
    "        this.Number = accountNumberSeed.ToString();\n",
    "        accountNumberSeed++;\n",
    "    }\n",
    "\n",
    "    // Functions\n",
    "    public void MakeDeposit(decimal amount, DateTime date, string note)\n",
    "    {\n",
    "    }\n",
    "\n",
    "    public void MakeWithdrawal(decimal amount, DateTime date, string note)\n",
    "    {\n",
    "    }\n",
    "}"
   ]
  },
  {
   "cell_type": "markdown",
   "metadata": {},
   "source": [
    "# Обзор: Куда делся первоначальный баланс?\n",
    "\n",
    "Вот наш окончательный код для этого модуля ниже. Однако есть проблема! У вас больше нет первоначального баланса и у вас 0 денег! Поскольку вы связали свой баланс с транзакциями, вам понадобится возможность вносить и снимать средства, чтобы положить деньги в банк. Вы узнаете это в следующем модуле!\n",
    "\n",
    "> Запустите ячейки кода ниже.\n",
    ">\n",
    "> Попробуйте создать свои собственные методы транзакций перед следующим модулем! Где вы оказываетесь в тупике? Чему вам нужно научиться?"
   ]
  },
  {
   "cell_type": "code",
   "execution_count": null,
   "metadata": {
    "dotnet_interactive": {
     "language": "csharp"
    },
    "polyglot_notebook": {
     "kernelName": "csharp"
    }
   },
   "outputs": [],
   "source": [
    "public class Transaction\n",
    "{\n",
    "    // Properties (#2)\n",
    "    public decimal Amount { get; }\n",
    "    public DateTime Date { get; }\n",
    "    public string Notes\n",
    "    {\n",
    "        get;\n",
    "\n",
    "    }\n",
    "\n",
    "    // Constructor (#3)\n",
    "    public Transaction(decimal amount, DateTime date, string note)\n",
    "    {\n",
    "        this.Amount = amount;\n",
    "        this.Date = date;\n",
    "        this.Notes = note;\n",
    "    }\n",
    "}"
   ]
  },
  {
   "cell_type": "code",
   "execution_count": null,
   "metadata": {
    "dotnet_interactive": {
     "language": "csharp"
    },
    "polyglot_notebook": {
     "kernelName": "csharp"
    }
   },
   "outputs": [],
   "source": [
    "using System.Collections.Generic;\n",
    "\n",
    "public class BankAccount\n",
    "{\n",
    "    // Properties\n",
    "    public string Number { get; }\n",
    "    public string Owner { get; set; }\n",
    "    public decimal Balance  //(#5)\n",
    "    {\n",
    "        get\n",
    "\n",
    "        {\n",
    "            decimal balance = 0;\n",
    "            foreach (var item in allTransactions)\n",
    "            {\n",
    "                balance += item.Amount;\n",
    "            }\n",
    "\n",
    "            return balance;\n",
    "        }\n",
    "\n",
    "\n",
    "    }\n",
    "    private static int accountNumberSeed = 1234567890; //(#1)\n",
    "    private List<Transaction> allTransactions = new List<Transaction>(); //(#4)\n",
    "\n",
    "\n",
    "    // Constructor\n",
    "    public BankAccount(string name, decimal initialBalance)\n",
    "    {\n",
    "        this.Owner = name;\n",
    "        //(#6: deleted \"this.Balance = initialBalance;\")\n",
    "        this.Number = accountNumberSeed.ToString(); //(#1)\n",
    "        accountNumberSeed++; //(#1)\n",
    "\n",
    "    }\n",
    "\n",
    "    // Functions\n",
    "    public void MakeDeposit(decimal amount, DateTime date, string note)\n",
    "    {\n",
    "    }\n",
    "\n",
    "    public void MakeWithdrawal(decimal amount, DateTime date, string note)\n",
    "    {\n",
    "    }\n",
    "}"
   ]
  },
  {
   "cell_type": "code",
   "execution_count": null,
   "metadata": {
    "dotnet_interactive": {
     "language": "csharp"
    },
    "polyglot_notebook": {
     "kernelName": "csharp"
    }
   },
   "outputs": [],
   "source": [
    "var account = new BankAccount(\"Kendra\", 1000);\n",
    "Console.WriteLine($\"Account {account.Number} was created for {account.Owner} with {account.Balance} dollars\");"
   ]
  },
  {
   "cell_type": "markdown",
   "metadata": {},
   "source": [
    "# Методы и исключения\n",
    "\n",
    "Посмотрите полное [видео по C# 101](https://www.youtube.com/watch?v=8YsoBBiVVzQ&list=PLdo4fOcmZ0oVxKLQCHpiUWun7vlJJvUiN&index=18) для этого модуля.\n",
    "\n",
    "Ниже приведен код, который вы создали на данный момент. Баланс получается путем суммирования списков транзакций, но вы не написали способ добавления транзакции. Это случается много раз при кодировании: чтобы сделать что-то более надежное, вам нужно сделать шаг назад, прежде чем идти вперед.\n",
    "\n",
    "> Запустите ячейки кода ниже."
   ]
  },
  {
   "cell_type": "code",
   "execution_count": null,
   "metadata": {
    "dotnet_interactive": {
     "language": "csharp"
    },
    "polyglot_notebook": {
     "kernelName": "csharp"
    }
   },
   "outputs": [],
   "source": [
    "public class Transaction\n",
    "{\n",
    "    // Properties\n",
    "    public decimal Amount { get; }\n",
    "    public DateTime Date { get; }\n",
    "    public string Notes\n",
    "    {\n",
    "        get;\n",
    "\n",
    "    }\n",
    "\n",
    "    // Constructor\n",
    "    public Transaction(decimal amount, DateTime date, string note)\n",
    "    {\n",
    "        this.Amount = amount;\n",
    "        this.Date = date;\n",
    "        this.Notes = note;\n",
    "    }\n",
    "}"
   ]
  },
  {
   "cell_type": "code",
   "execution_count": null,
   "metadata": {
    "dotnet_interactive": {
     "language": "csharp"
    },
    "polyglot_notebook": {
     "kernelName": "csharp"
    }
   },
   "outputs": [],
   "source": [
    "using System.Collections.Generic;\n",
    "\n",
    "public class BankAccount\n",
    "{\n",
    "    // Properties\n",
    "    public string Number { get; }\n",
    "    public string Owner { get; set; }\n",
    "    public decimal Balance\n",
    "    {\n",
    "        get\n",
    "\n",
    "        {\n",
    "            decimal balance = 0;\n",
    "            foreach (var item in allTransactions)\n",
    "            {\n",
    "                balance += item.Amount;\n",
    "            }\n",
    "\n",
    "            return balance;\n",
    "        }\n",
    "\n",
    "    }\n",
    "    private static int accountNumberSeed = 1234567890;\n",
    "    private List<Transaction> allTransactions = new List<Transaction>();\n",
    "\n",
    "    // Constructor\n",
    "    public BankAccount(string name, decimal initialBalance)\n",
    "    {\n",
    "        this.Owner = name;\n",
    "        this.Number = accountNumberSeed.ToString();\n",
    "        accountNumberSeed++;\n",
    "\n",
    "    }\n",
    "\n",
    "    // Functions\n",
    "    public void MakeDeposit(decimal amount, DateTime date, string note)\n",
    "    {\n",
    "    }\n",
    "\n",
    "    public void MakeWithdrawal(decimal amount, DateTime date, string note)\n",
    "    {\n",
    "    }\n",
    "}"
   ]
  },
  {
   "cell_type": "code",
   "execution_count": null,
   "metadata": {
    "dotnet_interactive": {
     "language": "csharp"
    },
    "polyglot_notebook": {
     "kernelName": "csharp"
    }
   },
   "outputs": [],
   "source": [
    "// Testing Code\n",
    "\n",
    "var account = new BankAccount(\"Kendra\", 1000);\n",
    "Console.WriteLine($\"Account {account.Number} was created for {account.Owner} with {account.Balance} dollars\");"
   ]
  },
  {
   "cell_type": "markdown",
   "metadata": {},
   "source": [
    "## #1: Добавление депозита\n",
    "\n",
    "Перво-наперво нужно добавить функцию внеста депозит. Это дополнение создаст транзакцию с указанием суммы, даты и примечания, которое вы вносите, а затем добавит ее в список транзакций.\n",
    "\n",
    "> Добавьте этот код в MakeDeposit.\n",
    "\n",
    "```csharp\n",
    "    var deposit = new Transaction(amount, date, note);\n",
    "    allTransactions.Add(deposit);\n",
    "```"
   ]
  },
  {
   "cell_type": "code",
   "execution_count": null,
   "metadata": {
    "dotnet_interactive": {
     "language": "csharp"
    },
    "polyglot_notebook": {
     "kernelName": "csharp"
    }
   },
   "outputs": [],
   "source": [
    "using System.Collections.Generic;\n",
    "\n",
    "public class BankAccount\n",
    "{\n",
    "    // Properties\n",
    "    public string Number { get; }\n",
    "    public string Owner { get; set; }\n",
    "    public decimal Balance\n",
    "    {\n",
    "        get\n",
    "\n",
    "        {\n",
    "            decimal balance = 0;\n",
    "            foreach (var item in allTransactions)\n",
    "            {\n",
    "                balance += item.Amount;\n",
    "            }\n",
    "\n",
    "            return balance;\n",
    "        }\n",
    "\n",
    "\n",
    "    }\n",
    "    private static int accountNumberSeed = 1234567890;\n",
    "    private List<Transaction> allTransactions = new List<Transaction>();\n",
    "\n",
    "    // Constructor\n",
    "    public BankAccount(string name, decimal initialBalance)\n",
    "    {\n",
    "        this.Owner = name;\n",
    "        this.Number = accountNumberSeed.ToString();\n",
    "        accountNumberSeed++;\n",
    "\n",
    "    }\n",
    "\n",
    "    // Functions\n",
    "    public void MakeDeposit(decimal amount, DateTime date, string note)\n",
    "    {\n",
    "        //Вставьте код сюда!\n",
    "    }\n",
    "\n",
    "    public void MakeWithdrawal(decimal amount, DateTime date, string note)\n",
    "    {\n",
    "    }\n",
    "}"
   ]
  },
  {
   "cell_type": "markdown",
   "metadata": {},
   "source": [
    "## #2: Исключения\n",
    "\n",
    "Но что, если кто-то попытается внести отрицательное количество денег? Это не имеет логического смысла, но в настоящее время метод позволяет это. Что вы можете сделать, так это сделать исключение. Прежде чем что-либо делать, вы проверяете, что внесенная сумма больше 0. Если это так, отлично, код переходит к добавлению транзакции. В противном случае код выдает исключение, останавливая код и выдавая ошибку.\n",
    "\n",
    "> Поместите этот код в самое начало метода `MakeDeposit`.\n",
    "\n",
    "```\n",
    "if (amount <= 0)\n",
    "    {\n",
    "        throw new ArgumentOutOfRangeException(nameof(amount), \"Amount of deposit must be positive\");\n",
    "    }\n",
    "```"
   ]
  },
  {
   "cell_type": "code",
   "execution_count": null,
   "metadata": {
    "dotnet_interactive": {
     "language": "csharp"
    },
    "polyglot_notebook": {
     "kernelName": "csharp"
    }
   },
   "outputs": [],
   "source": [
    "using System.Collections.Generic;\n",
    "\n",
    "public class BankAccount\n",
    "{\n",
    "    // Properties\n",
    "    public string Number { get; }\n",
    "    public string Owner { get; set; }\n",
    "    public decimal Balance\n",
    "    {\n",
    "        get\n",
    "\n",
    "        {\n",
    "            decimal balance = 0;\n",
    "            foreach (var item in allTransactions)\n",
    "            {\n",
    "                balance += item.Amount;\n",
    "            }\n",
    "\n",
    "            return balance;\n",
    "        }\n",
    "\n",
    "    }\n",
    "    private static int accountNumberSeed = 1234567890;\n",
    "    private List<Transaction> allTransactions = new List<Transaction>();\n",
    "\n",
    "    // Constructor\n",
    "    public BankAccount(string name, decimal initialBalance)\n",
    "    {\n",
    "        this.Owner = name;\n",
    "        this.Number = accountNumberSeed.ToString();\n",
    "        accountNumberSeed++;\n",
    "\n",
    "    }\n",
    "\n",
    "    // Functions\n",
    "    public void MakeDeposit(decimal amount, DateTime date, string note)\n",
    "    {\n",
    "        //Add Code here!\n",
    "\n",
    "        var deposit = new Transaction(amount, date, note);\n",
    "        allTransactions.Add(deposit);\n",
    "    }\n",
    "\n",
    "    public void MakeWithdrawal(decimal amount, DateTime date, string note)\n",
    "    {\n",
    "    }\n",
    "}"
   ]
  },
  {
   "cell_type": "markdown",
   "metadata": {},
   "source": [
    "## #3: Добавление вывода средств\n",
    "\n",
    "Теперь вам нужно сделать то же самое для вывода средств!\n",
    "\n",
    "> Добавьте этот код в MakeWithdrawal.\n",
    "\n",
    "```csharp\n",
    "if (amount <= 0)\n",
    "    {\n",
    "        throw new ArgumentOutOfRangeException(nameof(amount), \"Amount of withdrawal must be positive\");\n",
    "    }\n",
    "    if (Balance - amount < 0)\n",
    "    {\n",
    "        throw new InvalidOperationException(\"Not sufficient funds for this withdrawal\");\n",
    "    }\n",
    "    var withdrawal = new Transaction(-amount, date, note);\n",
    "    allTransactions.Add(withdrawal);\n",
    "```"
   ]
  },
  {
   "cell_type": "code",
   "execution_count": null,
   "metadata": {
    "dotnet_interactive": {
     "language": "csharp"
    },
    "polyglot_notebook": {
     "kernelName": "csharp"
    }
   },
   "outputs": [],
   "source": [
    "using System.Collections.Generic;\n",
    "\n",
    "public class BankAccount\n",
    "{\n",
    "    // Properties\n",
    "    public string Number { get; }\n",
    "    public string Owner { get; set; }\n",
    "    public decimal Balance\n",
    "    {\n",
    "        get\n",
    "\n",
    "        {\n",
    "            decimal balance = 0;\n",
    "            foreach (var item in allTransactions)\n",
    "            {\n",
    "                balance += item.Amount;\n",
    "            }\n",
    "\n",
    "            return balance;\n",
    "        }\n",
    "\n",
    "\n",
    "    }\n",
    "    private static int accountNumberSeed = 1234567890;\n",
    "    private List<Transaction> allTransactions = new List<Transaction>();\n",
    "\n",
    "    // Constructor\n",
    "    public BankAccount(string name, decimal initialBalance)\n",
    "    {\n",
    "        this.Owner = name;\n",
    "        this.Number = accountNumberSeed.ToString();\n",
    "        accountNumberSeed++;\n",
    "\n",
    "    }\n",
    "\n",
    "    // Functions\n",
    "    public void MakeDeposit(decimal amount, DateTime date, string note)\n",
    "    {\n",
    "        if (amount <= 0)\n",
    "        {\n",
    "            throw new ArgumentOutOfRangeException(nameof(amount), \"Amount of deposit must be positive\");\n",
    "        }\n",
    "        var deposit = new Transaction(amount, date, note);\n",
    "        allTransactions.Add(deposit);\n",
    "    }\n",
    "\n",
    "    public void MakeWithdrawal(decimal amount, DateTime date, string note)\n",
    "    {\n",
    "        //вставлять код сюда!\n",
    "    }\n",
    "}"
   ]
  },
  {
   "cell_type": "markdown",
   "metadata": {},
   "source": [
    "## #4: Создание первоначального депозита\n",
    "\n",
    "Теперь, когда у вас есть депозиты и снятие средств, вы, наконец, можете снова внести первоначальный депозит. Что вам нужно сделать, так это создать депозит в размере первоначальной суммы при первом создании банковского счета.\n",
    "\n",
    "> Добавьте этот код в конструктор `BankAccount`.\n",
    "\n",
    "```\n",
    "MakeDeposit(initialBalance, DateTime.Now, \"Initial balance\");\n",
    "```"
   ]
  },
  {
   "cell_type": "code",
   "execution_count": null,
   "metadata": {
    "dotnet_interactive": {
     "language": "csharp"
    },
    "polyglot_notebook": {
     "kernelName": "csharp"
    }
   },
   "outputs": [],
   "source": [
    "using System.Collections.Generic;\n",
    "\n",
    "public class BankAccount\n",
    "{\n",
    "    // Properties\n",
    "    public string Number { get; }\n",
    "    public string Owner { get; set; }\n",
    "    public decimal Balance\n",
    "    {\n",
    "        get\n",
    "\n",
    "        {\n",
    "            decimal balance = 0;\n",
    "            foreach (var item in allTransactions)\n",
    "            {\n",
    "                balance += item.Amount;\n",
    "            }\n",
    "\n",
    "            return balance;\n",
    "        }\n",
    "\n",
    "\n",
    "    }\n",
    "    private static int accountNumberSeed = 1234567890;\n",
    "    private List<Transaction> allTransactions = new List<Transaction>();\n",
    "\n",
    "    // Constructor\n",
    "    public BankAccount(string name, decimal initialBalance)\n",
    "    {\n",
    "        this.Owner = name;\n",
    "        this.Number = accountNumberSeed.ToString();\n",
    "        accountNumberSeed++;\n",
    "        //(Вставлять код сюда!)\n",
    "\n",
    "    }\n",
    "\n",
    "    // Functions\n",
    "    public void MakeDeposit(decimal amount, DateTime date, string note)\n",
    "    {\n",
    "        if (amount <= 0)\n",
    "        {\n",
    "            throw new ArgumentOutOfRangeException(nameof(amount), \"Amount of deposit must be positive\");\n",
    "        }\n",
    "        var deposit = new Transaction(amount, date, note);\n",
    "        allTransactions.Add(deposit);\n",
    "    }\n",
    "\n",
    "    public void MakeWithdrawal(decimal amount, DateTime date, string note)\n",
    "    {\n",
    "        if (amount <= 0)\n",
    "        {\n",
    "            throw new ArgumentOutOfRangeException(nameof(amount), \"Amount of withdrawal must be positive\");\n",
    "        }\n",
    "        if (Balance - amount < 0)\n",
    "        {\n",
    "            throw new InvalidOperationException(\"Not sufficient funds for this withdrawal\");\n",
    "        }\n",
    "        var withdrawal = new Transaction(-amount, date, note);\n",
    "        allTransactions.Add(withdrawal);\n",
    "        }\n",
    "}"
   ]
  },
  {
   "cell_type": "markdown",
   "metadata": {},
   "source": [
    "# Проверьте и протестируйте свою работу\n",
    "\n",
    "В тестовый код добавлена строка, потому что теперь вы можете вносить и снимать средства. Проверьте это!\n",
    "\n",
    "> Запустите следующие ячейки, включая новые элементы тестового кода.\n",
    ">\n",
    "> Сделайте свой собственный депозит и вывод средств."
   ]
  },
  {
   "cell_type": "code",
   "execution_count": null,
   "metadata": {
    "dotnet_interactive": {
     "language": "csharp"
    },
    "polyglot_notebook": {
     "kernelName": "csharp"
    }
   },
   "outputs": [],
   "source": [
    "public class Transaction\n",
    "{\n",
    "    // Properties\n",
    "    public decimal Amount { get; }\n",
    "    public DateTime Date { get; }\n",
    "    public string Notes { get; }\n",
    "\n",
    "    // Constructor\n",
    "    public Transaction(decimal amount, DateTime date, string note)\n",
    "    {\n",
    "        this.Amount = amount;\n",
    "        this.Date = date;\n",
    "        this.Notes = note;\n",
    "    }\n",
    "}"
   ]
  },
  {
   "cell_type": "code",
   "execution_count": null,
   "metadata": {
    "dotnet_interactive": {
     "language": "csharp"
    },
    "polyglot_notebook": {
     "kernelName": "csharp"
    }
   },
   "outputs": [],
   "source": [
    "using System.Collections.Generic;\n",
    "\n",
    "public class BankAccount\n",
    "{\n",
    "    // Properties\n",
    "    public string Number { get; }\n",
    "    public string Owner { get; set; }\n",
    "    public decimal Balance\n",
    "    {\n",
    "        get\n",
    "\n",
    "        {\n",
    "            decimal balance = 0;\n",
    "            foreach (var item in allTransactions)\n",
    "            {\n",
    "                balance += item.Amount;\n",
    "            }\n",
    "\n",
    "            return balance;\n",
    "        }\n",
    "\n",
    "\n",
    "    }\n",
    "    private static int accountNumberSeed = 1234567890;\n",
    "    private List<Transaction> allTransactions = new List<Transaction>();\n",
    "\n",
    "    // Constructor\n",
    "    public BankAccount(string name, decimal initialBalance)\n",
    "    {\n",
    "\n",
    "        this.Owner = name;\n",
    "        this.Number = accountNumberSeed.ToString();\n",
    "        accountNumberSeed++;\n",
    "        MakeDeposit(initialBalance, DateTime.Now, \"Initial balance\"); //(#4)\n",
    "\n",
    "    }\n",
    "\n",
    "    // Functions\n",
    "    public void MakeDeposit(decimal amount, DateTime date, string note)\n",
    "    {\n",
    "        //(#2)\n",
    "        if (amount <= 0)\n",
    "        {\n",
    "            throw new ArgumentOutOfRangeException(nameof(amount), \"Amount of deposit must be positive\");\n",
    "        }\n",
    "        //(#1)\n",
    "        var deposit = new Transaction(amount, date, note);\n",
    "        allTransactions.Add(deposit);\n",
    "    }\n",
    "\n",
    "    public void MakeWithdrawal(decimal amount, DateTime date, string note)\n",
    "    {\n",
    "        //(#3)\n",
    "        if (amount <= 0)\n",
    "        {\n",
    "            throw new ArgumentOutOfRangeException(nameof(amount), \"Amount of withdrawal must be positive\");\n",
    "        }\n",
    "        if (Balance - amount < 0)\n",
    "        {\n",
    "            throw new InvalidOperationException(\"Not sufficient funds for this withdrawal\");\n",
    "        }\n",
    "        var withdrawal = new Transaction(-amount, date, note);\n",
    "        allTransactions.Add(withdrawal);\n",
    "    }\n",
    "}"
   ]
  },
  {
   "cell_type": "code",
   "execution_count": null,
   "metadata": {
    "dotnet_interactive": {
     "language": "csharp"
    },
    "polyglot_notebook": {
     "kernelName": "csharp"
    }
   },
   "outputs": [],
   "source": [
    "var account = new BankAccount(\"Kendra\", 1000);\n",
    "Console.WriteLine($\"Account {account.Number} was created for {account.Owner} with {account.Balance} dollars\");\n",
    "\n",
    "account.MakeWithdrawal(500, DateTime.Now, \"Rent payment\");  //Added test code\n",
    "Console.WriteLine(account.Balance);\n",
    "account.MakeDeposit(100, DateTime.Now, \"Friend paid me back\");\n",
    "Console.WriteLine(account.Balance);"
   ]
  },
  {
   "cell_type": "markdown",
   "metadata": {},
   "source": [
    "# Обзор\n",
    "\n",
    "Вы сделали это! Теперь вы успешно создали класс банковского счета, который имеет следующие атрибуты:\n",
    "\n",
    "> Он имеет 10-значный номер, который однозначно идентифицирует банковский счет.\n",
    ">\n",
    "> В нем есть строка, в которой хранится имя или имена владельцев.\n",
    ">\n",
    "> Есть возможность узнать баланс.\n",
    ">\n",
    "> Принятие депозитов.\n",
    ">\n",
    "> Он принимает снятие средств.\n",
    ">\n",
    "> Первоначальный баланс должен быть положительным.\n",
    ">\n",
    "> Вывод средств не может привести к отрицательному балансу.\n",
    ">\n",
    "\n",
    "## Дополнительный кредит\n",
    "\n",
    "Теперь, когда вы создали класс банковского счета, вы можете с ним поэкспериментировать! Вот задача:\n",
    "> Создайте способ составить список транзакций, включая время и примечания."
   ]
  },
  {
   "cell_type": "code",
   "execution_count": 6,
   "metadata": {
    "dotnet_interactive": {
     "language": "csharp"
    },
    "polyglot_notebook": {
     "kernelName": "csharp"
    }
   },
   "outputs": [
    {
     "name": "stdout",
     "output_type": "stream",
     "text": [
      "Account 1234567890 was created for Kendra with 1000 dollars\n",
      "500\n",
      "600\n",
      "Сумма: 1000, Дата: 08.12.2023 11:15:39, Notes: Initial balance\n",
      "Сумма: -500, Дата: 08.12.2023 11:15:39, Notes: Rent payment\n",
      "Сумма: 100, Дата: 08.12.2023 11:15:39, Notes: Friend paid me back\n"
     ]
    }
   ],
   "source": [
    "using System;\n",
    "using System.Collections.Generic;\n",
    "using System.Data;\n",
    "using System.Linq;\n",
    "using System.Security.Cryptography.X509Certificates;\n",
    "using System.Text;\n",
    "using System.Threading.Tasks;\n",
    "\n",
    "\n",
    "        public class BankAccount\n",
    "        {\n",
    "            // Properties\n",
    "            public string Number { get; }\n",
    "            public string Owner { get; set; }\n",
    "            public decimal Balance\n",
    "            {\n",
    "                get\n",
    "\n",
    "                {\n",
    "                    decimal balance = 0;\n",
    "                    foreach (var item in allTransactions)\n",
    "                    {\n",
    "                        balance += item.Amount;\n",
    "                    }\n",
    "\n",
    "                    return balance;\n",
    "                }\n",
    "\n",
    "\n",
    "            }\n",
    "            private static int accountNumberSeed = 1234567890;\n",
    "            private List<Transaction> allTransactions = new List<Transaction>();\n",
    "\n",
    "            // Constructor\n",
    "            \n",
    "\n",
    "            public BankAccount(string name, decimal initialBalance)\n",
    "            {\n",
    "\n",
    "                this.Owner = name;\n",
    "                this.Number = accountNumberSeed.ToString();\n",
    "                accountNumberSeed++;\n",
    "                MakeDeposit(initialBalance, DateTime.Now, \"Initial balance\");\n",
    "\n",
    "            }\n",
    "\n",
    "            // Functions\n",
    "            public void getTransaction()\n",
    "            {\n",
    "                foreach (var transaction in allTransactions)\n",
    "                {\n",
    "                    transaction.getT();\n",
    "                }\n",
    "            }\n",
    "\n",
    "\n",
    "            public void MakeDeposit(decimal amount, DateTime date, string note)\n",
    "            {\n",
    "                \n",
    "                if (amount <= 0)\n",
    "                {\n",
    "                    throw new ArgumentOutOfRangeException(nameof(amount), \"Amount of deposit must be positive\");\n",
    "                }\n",
    "                \n",
    "                var deposit = new Transaction(amount, date, note);\n",
    "                allTransactions.Add(deposit);\n",
    "            }\n",
    "\n",
    "            public void MakeWithdrawal(decimal amount, DateTime date, string note)\n",
    "            {\n",
    "                \n",
    "                if (amount <= 0)\n",
    "                {\n",
    "                    throw new ArgumentOutOfRangeException(nameof(amount), \"Amount of withdrawal must be positive\");\n",
    "                }\n",
    "                if (Balance - amount < 0)\n",
    "                {\n",
    "                    throw new InvalidOperationException(\"Not sufficient funds for this withdrawal\");\n",
    "                }\n",
    "                var withdrawal = new Transaction(-amount, date, note);\n",
    "                allTransactions.Add(withdrawal);\n",
    "            }\n",
    "        }\n",
    "\n",
    "    public class Transaction\n",
    "    {\n",
    "        \n",
    "        public decimal Amount { get; }\n",
    "        public DateTime Date { get; }\n",
    "        public string Notes { get; }\n",
    "\n",
    "        // Constructor\n",
    "        public Transaction(decimal amount, DateTime date, string note)\n",
    "        {\n",
    "            this.Amount = amount;\n",
    "            this.Date = date;\n",
    "            this.Notes = note;\n",
    "        }\n",
    "\n",
    "        // Functions\n",
    "        public void getT()\n",
    "        {\n",
    "            Console.WriteLine($\"Сумма: {this.Amount}, Дата: {this.Date}, Notes: {this.Notes}\");\n",
    "            \n",
    "        }\n",
    "        \n",
    "    }\n",
    "\n",
    "\n",
    "    var account = new BankAccount(\"Kendra\", 1000);\n",
    "    Console.WriteLine($\"Account {account.Number} was created for {account.Owner} with {account.Balance} dollars\");\n",
    "\n",
    "    account.MakeWithdrawal(500, DateTime.Now, \"Rent payment\");  //Added test code\n",
    "    Console.WriteLine(account.Balance);\n",
    "    account.MakeDeposit(100, DateTime.Now, \"Friend paid me back\");\n",
    "    Console.WriteLine(account.Balance);\n",
    "    account.getTransaction();\n",
    "\n"
   ]
  }
 ],
 "metadata": {
  "kernelspec": {
   "display_name": ".NET (C#)",
   "language": "C#",
   "name": ".net-csharp"
  },
  "language_info": {
   "name": "polyglot-notebook"
  },
  "polyglot_notebook": {
   "kernelInfo": {
    "defaultKernelName": "csharp",
    "items": [
     {
      "aliases": [],
      "name": "csharp"
     }
    ]
   }
  }
 },
 "nbformat": 4,
 "nbformat_minor": 2
}
