{
 "cells": [
  {
   "cell_type": "markdown",
   "metadata": {},
   "source": [
    "# Массивы, списки и коллекции\n",
    "\n",
    "Посмотрите полное [видео по C# 101](https://www.youtube.com/watch?v=qLeF_wpnVto&list=PLdo4fOcmZ0oVxKLQCHpiUWun7vlJJvUiN&index=12) для этого модуля."
   ]
  },
  {
   "cell_type": "markdown",
   "metadata": {},
   "source": [
    "Массивы, списки и коллекции могут быть весьма полезны. Рассмотрим список:\n",
    "> Запустите следующий код. Распечатывает ли он то, что вы ожидали?"
   ]
  },
  {
   "cell_type": "code",
   "execution_count": 1,
   "metadata": {
    "dotnet_interactive": {
     "language": "csharp"
    },
    "polyglot_notebook": {
     "kernelName": "csharp"
    }
   },
   "outputs": [
    {
     "name": "stdout",
     "output_type": "stream",
     "text": [
      "Hello <NAME>!\n",
      "Hello ANA!\n",
      "Hello FELIPE!\n"
     ]
    }
   ],
   "source": [
    "using System;\n",
    "using System.Collections.Generic;\n",
    "\n",
    "var names = new List<string> { \"<name>\", \"Ana\", \"Felipe\" };\n",
    "foreach (var name in names)\n",
    "{\n",
    "    Console.WriteLine($\"Hello {name.ToUpper()}!\");\n",
    "}"
   ]
  },
  {
   "cell_type": "markdown",
   "metadata": {},
   "source": [
    "## Так что же означает этот код?\n",
    "\n",
    "- **System.collections.Generic**: это пространство имен, в котором есть списки. Если вы не сообщите коду, что используете его, вам придется писать \"Systems.Collections.Generic.List\" каждый раз, когда вы хотите использовать список. Это экономит время на вводе текста!\n",
    "- **var**: это то, что вы пишете, когда у вас есть переменная, но вы не знаете/не заботитесь о ее типе.\n",
    "- **List\\<string\\>**: это означает, что вы создаете список строк. Вместо `string` вы можете указать `int`, `double` или любую другую переменную.\n",
    "- **foreach**: это еще один цикл for! Он проходит через каждый элемент в списке.\n",
    "- **name in names**: этот стиль предпочитают многие люди. `names` — это весь список, содержащий имена во множественном числе. `name` — это отдельный элемент в `names`."
   ]
  },
  {
   "cell_type": "markdown",
   "metadata": {},
   "source": [
    "## Альтернативный метод\n",
    "\n",
    "Предыдущий код немного более понятен для чтения, чем код ниже, но код ниже имеет более узнаваемый код, основанный на том, что мы узнали.\n",
    "На самом деле это просто два разных стиля написания одного и того же кода. Не стесняйтесь использовать то, что имеет для вас больший смысл!\n",
    "> Запустите следующий код.\n",
    ">\n",
    "> Можете ли вы определить схожие части кода в двух разных методах?\n",
    ">\n",
    "> Какой метод вы предпочитаете?"
   ]
  },
  {
   "cell_type": "code",
   "execution_count": 3,
   "metadata": {
    "dotnet_interactive": {
     "language": "csharp"
    },
    "polyglot_notebook": {
     "kernelName": "csharp"
    }
   },
   "outputs": [
    {
     "name": "stdout",
     "output_type": "stream",
     "text": [
      "Hello <NAME>\n",
      "Hello ANA\n",
      "Hello FELIPE\n"
     ]
    }
   ],
   "source": [
    "using System;\n",
    "using System.Collections.Generic;\n",
    "\n",
    "var names = new List<string> { \"<name>\", \"Ana\", \"Felipe\" };\n",
    "for (int i = 0;i < names.Count; i++)\n",
    "{\n",
    "    Console.WriteLine($\"Hello {names[i].ToUpper()}\");\n",
    "}"
   ]
  },
  {
   "cell_type": "markdown",
   "metadata": {},
   "source": [
    "## Add\n",
    "\n",
    "Вы можете легко добавлять имена в списки. В списках есть метод `Add()`, который добавляет новый элемент в конец списка.\n",
    "> Запустите код.\n",
    ">\n",
    "> Затем попробуйте заменить имя в коде на свое собственное."
   ]
  },
  {
   "cell_type": "code",
   "execution_count": 4,
   "metadata": {
    "dotnet_interactive": {
     "language": "csharp"
    },
    "polyglot_notebook": {
     "kernelName": "csharp"
    }
   },
   "outputs": [
    {
     "name": "stdout",
     "output_type": "stream",
     "text": [
      "Hello <NAME>!\n",
      "Hello ANA!\n",
      "Hello FELIPE!\n",
      "Hello SOPHIA!\n"
     ]
    }
   ],
   "source": [
    "var names = new List<string> { \"<name>\", \"Ana\", \"Felipe\" };\n",
    "\n",
    "names.Add(\"Sophia\");\n",
    "\n",
    "foreach (var name in names)\n",
    "{\n",
    "    Console.WriteLine($\"Hello {name.ToUpper()}!\");\n",
    "}"
   ]
  },
  {
   "cell_type": "markdown",
   "metadata": {},
   "source": [
    "## Remove\n",
    "\n",
    "Вы также можете удалять имена. Попробуйте:\n",
    "\n",
    "> Запустите код.\n",
    ">\n",
    "> Затем выберите, какое имя вы хотите удалить.\n",
    ">\n",
    "> Что произойдет, если вы попытаетесь удалить то, чего нет?"
   ]
  },
  {
   "cell_type": "code",
   "execution_count": 6,
   "metadata": {
    "dotnet_interactive": {
     "language": "csharp"
    },
    "polyglot_notebook": {
     "kernelName": "csharp"
    }
   },
   "outputs": [
    {
     "name": "stdout",
     "output_type": "stream",
     "text": [
      "Hello ANA\n",
      "Hello FELIPE\n"
     ]
    }
   ],
   "source": [
    "var names = new List<string> { \"<name>\", \"Ana\", \"Felipe\" };\n",
    "\n",
    "names.Remove(\"<name>\");\n",
    "\n",
    "for (int i = 0;i < names.Count; i++)\n",
    "{\n",
    "    Console.WriteLine($\"Hello {names[i].ToUpper()}\");\n",
    "}"
   ]
  },
  {
   "cell_type": "markdown",
   "metadata": {},
   "source": [
    "## Вывод определенного элемента\n",
    "\n",
    "Что делать, если вы не хотите выводить именя всех своих друзей? Что, если вы просто хотите вывести имя одного друга? Вот тут-то и приходят на помощь скобки.\n",
    "> Запустите код.\n",
    ">\n",
    "> Попробуйте вывести имя под другим номером в списке.\n",
    ">\n",
    "> Нужен ли вам 0 или 1, чтобы вывести первый элемент списка?"
   ]
  },
  {
   "cell_type": "code",
   "execution_count": 1,
   "metadata": {
    "dotnet_interactive": {
     "language": "csharp"
    },
    "polyglot_notebook": {
     "kernelName": "csharp"
    }
   },
   "outputs": [
    {
     "name": "stdout",
     "output_type": "stream",
     "text": [
      "Hello <NAME>\r\n"
     ]
    }
   ],
   "source": [
    "var names = new List<string> { \"<name>\", \"Ana\", \"Felipe\" };\n",
    "Console.WriteLine($\"Hello {names[0].ToUpper()}\");"
   ]
  },
  {
   "cell_type": "markdown",
   "metadata": {},
   "source": [
    "## Поиск\n",
    "\n",
    "В последней теме вы узнали, как найти, какой элемент хранится по определенному индексу. Теперь, зная предмет, узнаем его индекс.\n",
    "\n",
    "> Запустите код\n",
    ">\n",
    "> На каком индексе Sophia?\n",
    ">\n",
    "> Какой индекс у \"Scott\"?"
   ]
  },
  {
   "cell_type": "code",
   "execution_count": 11,
   "metadata": {
    "dotnet_interactive": {
     "language": "csharp"
    },
    "polyglot_notebook": {
     "kernelName": "csharp"
    }
   },
   "outputs": [
    {
     "name": "stdout",
     "output_type": "stream",
     "text": [
      "Scott\r\n"
     ]
    }
   ],
   "source": [
    "var names = new List<string> { \"<name>\", \"Sophia\", \"Felipe\", \"Scott\"};\n",
    "Console.WriteLine(names[3]);"
   ]
  },
  {
   "cell_type": "markdown",
   "metadata": {},
   "source": [
    "Не забывайте, что списки основаны на \"0\". Первое место является \"0-м\"."
   ]
  },
  {
   "cell_type": "markdown",
   "metadata": {},
   "source": [
    "# Playground\n",
    "\n",
    "Поиграйте с тем, что вы узнали! Вот несколько идей:\n",
    "> Составьте список необходимых вам продуктов под названием `groceries`.\n",
    ">\n",
    "> Можете ли вы вывести \"buy \\<grocery\\>!\" для каждого предмета?\n",
    ">\n",
    "> Какой третий пункт списка? Это то же самое, что `groceries[3]?`\n",
    ">\n",
    "> Обязательно добавьте \"toothpaste\".\n",
    ">\n",
    "> Удалите наименее любимый предмет.\n",
    ">\n",
    "> А что третье в списке?"
   ]
  },
  {
   "cell_type": "code",
   "execution_count": 3,
   "metadata": {
    "dotnet_interactive": {
     "language": "csharp"
    },
    "polyglot_notebook": {
     "kernelName": "csharp"
    }
   },
   "outputs": [
    {
     "name": "stdout",
     "output_type": "stream",
     "text": [
      "Buy Potato\n",
      "Buy Carrot\n",
      "Buy tomato\n",
      "Третий элемент списка - tomato\n"
     ]
    }
   ],
   "source": [
    "using System;\n",
    "using System.Collections.Generic;\n",
    "var groceries = new List<string> {\"Potato\", \"Carrot\", \"tomato\"};\n",
    "groceries.Add(\"Toothpaste\");\n",
    "groceries.Remove(\"Toothpaste\");\n",
    "foreach (var i in groceries) \n",
    "{\n",
    "    Console.WriteLine($\"Buy {i}\");\n",
    "}\n",
    "Console.WriteLine($\"Третий элемент списка - {groceries[2]}\");"
   ]
  },
  {
   "cell_type": "markdown",
   "metadata": {},
   "source": [
    "# Поиск, сортировка и индексирование списков\n",
    "\n",
    "Посмотрите полное [видео по C# 101](https://www.youtube.com/watch?v=NJ5ghiutzfY&list=PLdo4fOcmZ0oVxKLQCHpiUWun7vlJJvUiN&index=13) для этого модуля."
   ]
  },
  {
   "cell_type": "code",
   "execution_count": 1,
   "metadata": {
    "dotnet_interactive": {
     "language": "csharp"
    },
    "polyglot_notebook": {
     "kernelName": "csharp"
    }
   },
   "outputs": [
    {
     "name": "stdout",
     "output_type": "stream",
     "text": [
      "Found Ana at 1\r\n"
     ]
    }
   ],
   "source": [
    "using System;\n",
    "using System.Collections.Generic;\n",
    "var names = new List<string> { \"Sophia\", \"Ana\", \"Jayme\", \"Bill\" };\n",
    "string name = \"Ana\";\n",
    "var index = names.IndexOf(name);\n",
    "Console.WriteLine($\"Found {name} at {index}\");"
   ]
  },
  {
   "cell_type": "markdown",
   "metadata": {},
   "source": [
    "## Что означает -1?\n",
    "\n",
    "Если `IndexOf()` возвращает -1, это означает, что не удалось найти элемент в списке. Фактически, вы можете сделать небольшой оператор if, который не позволит найти элемент:\n",
    "\n",
    "> Запустите код.\n",
    ">\n",
    "> Попробуйте несколько разных имен."
   ]
  },
  {
   "cell_type": "code",
   "execution_count": 2,
   "metadata": {
    "dotnet_interactive": {
     "language": "csharp"
    },
    "polyglot_notebook": {
     "kernelName": "csharp"
    }
   },
   "outputs": [
    {
     "name": "stdout",
     "output_type": "stream",
     "text": [
      "Found Bill at 3\r\n"
     ]
    }
   ],
   "source": [
    "var names = new List<string> { \"Sophia\", \"Ana\", \"Jayme\", \"Bill\" };\n",
    "string name = \"Bill\";\n",
    "var index = names.IndexOf(name);\n",
    "if(index == -1){\n",
    "    Console.WriteLine($\"{name} not found\");\n",
    "} else {\n",
    "    Console.WriteLine($\"Found {names[index]} at {index}\");\n",
    "}"
   ]
  },
  {
   "cell_type": "markdown",
   "metadata": {},
   "source": [
    "## Сортировка\n",
    "\n",
    "До сих пор вы просто вводили имена в случайном порядке. Но иногда полезно отсортировать список. `Sort()` берет список и организует его. Он просматривает типы переменных и организует их наиболее разумным способом: если это строки, он сортирует их в алфавитном порядке, если это числа, то он организует их от меньшего к большему.\n",
    "\n",
    "Обратите внимание, что вам не нужно писать `sortedList = name.Sort()`, вам просто нужно написать `names.Sort()`. `Sort()` изменяет сам список, и вам не нужно сохранять действие в новом объекте.\n",
    "\n",
    "> Запустите код!\n",
    ">\n",
    "> Не стесняйтесь добавлять любые другие имена, чтобы их можно было отсортировать."
   ]
  },
  {
   "cell_type": "code",
   "execution_count": 3,
   "metadata": {
    "dotnet_interactive": {
     "language": "csharp"
    },
    "polyglot_notebook": {
     "kernelName": "csharp"
    }
   },
   "outputs": [
    {
     "name": "stdout",
     "output_type": "stream",
     "text": [
      "Pre Sorting:\n",
      "Sophia\n",
      "Ana\n",
      "Jayme\n",
      "Bill\n",
      "\n",
      "Post Sorting:\n",
      "Ana\n",
      "Bill\n",
      "Jayme\n",
      "Sophia\n"
     ]
    }
   ],
   "source": [
    "var names = new List<string> { \"Sophia\", \"Ana\", \"Jayme\", \"Bill\" };\n",
    "Console.WriteLine(\"Pre Sorting:\");\n",
    "foreach(var name in names )\n",
    "{\n",
    "    Console.WriteLine(name);\n",
    "}\n",
    "\n",
    "names.Sort();\n",
    "\n",
    "Console.WriteLine();\n",
    "Console.WriteLine(\"Post Sorting:\");\n",
    "foreach(var name in names )\n",
    "{\n",
    "    Console.WriteLine(name);\n",
    "}"
   ]
  },
  {
   "cell_type": "markdown",
   "metadata": {},
   "source": [
    "# Playground\n",
    "\n",
    "Поиграйте с тем, что вы узнали! Вот несколько идей:\n",
    "\n",
    "> Составьте список продуктов и рассортируйте их! какой индекс у 'Carrots'?\n",
    ">\n",
    "> Попробуйте составить список чисел! Сортируются ли они так, как вы ожидаете?\n",
    ">\n",
    "> Распечатайте списки, которые вы составили."
   ]
  },
  {
   "cell_type": "code",
   "execution_count": 11,
   "metadata": {
    "dotnet_interactive": {
     "language": "csharp"
    },
    "polyglot_notebook": {
     "kernelName": "csharp"
    }
   },
   "outputs": [
    {
     "name": "stdout",
     "output_type": "stream",
     "text": [
      "Ana\n",
      "Bill\n",
      "Carrots\n",
      "Jayme\n",
      "Sophia\n"
     ]
    }
   ],
   "source": [
    "var names = new List<string> { \"Sophia\", \"Ana\", \"Jayme\", \"Bill\", \"Carrots\"};\n",
    "names.Sort();\n",
    "foreach (string el in names)\n",
    "{\n",
    "    Console.WriteLine(el);\n",
    "}"
   ]
  },
  {
   "cell_type": "code",
   "execution_count": 8,
   "metadata": {
    "dotnet_interactive": {
     "language": "csharp"
    },
    "polyglot_notebook": {
     "kernelName": "csharp"
    }
   },
   "outputs": [
    {
     "name": "stdout",
     "output_type": "stream",
     "text": [
      "4\n",
      "5\n",
      "5\n",
      "30\n",
      "100\n"
     ]
    }
   ],
   "source": [
    "var numbers = new List<int> { 100, 5, 30, 4, 5};\n",
    "numbers.Sort();\n",
    "foreach (int el in numbers)\n",
    "{\n",
    "    Console.WriteLine(el);\n",
    "}\n"
   ]
  },
  {
   "cell_type": "markdown",
   "metadata": {},
   "source": [
    "# Списки других типов\n",
    "\n",
    "Посмотрите полное [видео по C# 101](https://www.youtube.com/watch?v=oIQdb93xewE&list=PLdo4fOcmZ0oVxKLQCHpiUWun7vlJJvUiN&index=14) для этого модуля.\n",
    "\n",
    "Вы практиковались в составлении списков строк, но составить список можно из чего угодно! Вот пример числового списка.\n",
    "\n",
    "## Фибоначчи\n",
    "\n",
    "Фибоначчи — это классная числовая последовательность. Он складывает последние два числа, чтобы получить следующее число. Вы начинаете с 1 и 1\n",
    "\n",
    "1 + 1 = 2 (1, 1, 2)\n",
    "1 + 2 = 3 (1, 1, 2, 3)\n",
    "2 + 3 = 5 (1, 1, 2, 3, 5)\n",
    "3 + 5 = 8 (1, 1, 2, 3, 5, 8)\n",
    "и так далее. В природе существует множество вещей, которые соответствуют этой числовой последовательност!\n",
    "\n",
    "> Начните с базовых чисел: вот список, в котором всего 1, 1. Запустите его и посмотрите, что произойдет."
   ]
  },
  {
   "cell_type": "code",
   "execution_count": 23,
   "metadata": {
    "dotnet_interactive": {
     "language": "csharp"
    },
    "polyglot_notebook": {
     "kernelName": "csharp"
    }
   },
   "outputs": [
    {
     "name": "stdout",
     "output_type": "stream",
     "text": [
      "1\n",
      "1\n",
      "2\n",
      "3\n",
      "5\n",
      "8\n",
      "13\n",
      "21\n",
      "34\n",
      "55\n",
      "89\n",
      "144\n",
      "233\n",
      "377\n",
      "610\n",
      "987\n",
      "1597\n",
      "2584\n",
      "4181\n",
      "6765\n"
     ]
    }
   ],
   "source": [
    "var fibonacciNumbers = new List<long> { 1, 1 };\n",
    "for (int i = 0; i < 20; i ++)\n",
    "{\n",
    "    fibonacciNumbers.Add(fibonacciNumbers[i] + fibonacciNumbers[i + 1]);\n",
    "    Console.WriteLine(fibonacciNumbers[i]);\n",
    "}\n",
    "    "
   ]
  },
  {
   "cell_type": "markdown",
   "metadata": {},
   "source": [
    "Теперь вам не нужны только 1,1! Вы хотите больше последовательности. В этом коде вы используете два последних числа списка, складываете их вместе, чтобы получить следующее число, а затем добавляете его в список.\n",
    "\n",
    "> Запустите код, чтобы опробовать его."
   ]
  },
  {
   "cell_type": "code",
   "execution_count": 16,
   "metadata": {
    "dotnet_interactive": {
     "language": "csharp"
    },
    "polyglot_notebook": {
     "kernelName": "csharp"
    }
   },
   "outputs": [
    {
     "name": "stdout",
     "output_type": "stream",
     "text": [
      "1\n",
      "1\n",
      "2\n"
     ]
    }
   ],
   "source": [
    "var fibonacciNumbers = new List<int> {1, 1}; // Starting the list off with the basics\n",
    "\n",
    "var previous = fibonacciNumbers[fibonacciNumbers.Count - 1]; // Take the last number in the list\n",
    "var previous2 = fibonacciNumbers[fibonacciNumbers.Count - 2]; // Take the second to last number in the list\n",
    "\n",
    "fibonacciNumbers.Add(previous + previous2); // Add the previous numbers together, and attach the sum to the end of the list\n",
    "\n",
    "foreach (var item in fibonacciNumbers) // Print out the list\n",
    "    Console.WriteLine(item);"
   ]
  },
  {
   "cell_type": "markdown",
   "metadata": {},
   "source": [
    "## Count -1\n",
    "\n",
    "Почему вам нужно выполнить `fibonacciNumbers.Count -1`, чтобы получить последний номер списка? Ну, `Count` сообщает вам, сколько элементов находится в списке. Однако индекс элемента начинается с нуля. Итак, если бы в вашем списке был только один элемент, счетчик был бы один, но индекс элемента был бы 0. Индекс и счетчик последнего элемента всегда равны единице."
   ]
  },
  {
   "cell_type": "markdown",
   "metadata": {},
   "source": [
    "# Задача: Фибоначчи до 20-го числа\n",
    "\n",
    "Мы предоставили вам базу кода, связанную с Фибоначчи. Можете ли вы составить список из первых 20 чисел Фибоначчи?\n",
    "\n",
    "> Составьте и выведите список, содержащий первые 20 чисел Фибоначчи."
   ]
  },
  {
   "cell_type": "code",
   "execution_count": 24,
   "metadata": {
    "dotnet_interactive": {
     "language": "csharp"
    },
    "polyglot_notebook": {
     "kernelName": "csharp"
    }
   },
   "outputs": [
    {
     "name": "stdout",
     "output_type": "stream",
     "text": [
      "1\n",
      "1\n",
      "2\n",
      "3\n",
      "5\n",
      "8\n",
      "13\n",
      "21\n",
      "34\n",
      "55\n",
      "89\n",
      "144\n",
      "233\n",
      "377\n",
      "610\n",
      "987\n",
      "1597\n",
      "2584\n",
      "4181\n",
      "6765\n"
     ]
    }
   ],
   "source": [
    "var fibonacciNumbers = new List<long> { 1, 1 };\n",
    "for (int i = 0; i < 20; i ++)\n",
    "{\n",
    "    fibonacciNumbers.Add(fibonacciNumbers[i] + fibonacciNumbers[i + 1]);\n",
    "    Console.WriteLine(fibonacciNumbers[i]);\n",
    "}"
   ]
  },
  {
   "cell_type": "markdown",
   "metadata": {},
   "source": [
    "## Секреты и уловки\n",
    "\n",
    "- Итоговое число должно быть 6765.\n",
    "- Сможете ли вы сделать цикл `for`? Цикл `foreach`? Цикл `while`? Какой тип цикла вы предпочитаете и какой будет более полезным?\n",
    "- Вы уже близки, но отстаете на одну цифру? Это действительно распространенная проблема! Помните, что `>` и `>=` похожи, но в конечном итоге они отличаются друг от друга. Попробуете поиграть с этим?\n",
    "- Помните, что вы уже начинаете с двумя элементами в списке.\n",
    "- В тупике? Посмотрите [видео C# 101](https://www.youtube.com/watch?v=oIQdb93xewE&list=PLdo4fOcmZ0oVxKLQCHpiUWun7vlJJvUiN&index=14) для этого модуля. Попробуйте сделать паузу, как только у вас появится идея, и сначала опробовать ее, прежде чем продолжать просмотр."
   ]
  }
 ],
 "metadata": {
  "kernelspec": {
   "display_name": ".NET (C#)",
   "language": "C#",
   "name": ".net-csharp"
  },
  "language_info": {
   "name": "polyglot-notebook"
  },
  "polyglot_notebook": {
   "kernelInfo": {
    "defaultKernelName": "csharp",
    "items": [
     {
      "aliases": [],
      "name": "csharp"
     }
    ]
   }
  }
 },
 "nbformat": 4,
 "nbformat_minor": 2
}
